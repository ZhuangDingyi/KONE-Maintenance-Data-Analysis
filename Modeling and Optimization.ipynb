{
 "cells": [
  {
   "cell_type": "code",
   "execution_count": 1,
   "metadata": {},
   "outputs": [
    {
     "name": "stderr",
     "output_type": "stream",
     "text": [
      "C:\\Software\\Programming\\Anaconda\\lib\\site-packages\\sklearn\\cross_validation.py:41: DeprecationWarning: This module was deprecated in version 0.18 in favor of the model_selection module into which all the refactored classes and functions are moved. Also note that the interface of the new CV iterators are different from that of this module. This module will be removed in 0.20.\n",
      "  \"This module will be removed in 0.20.\", DeprecationWarning)\n"
     ]
    }
   ],
   "source": [
    "#coding:utf-8\n",
    "# 载入必要的packages\n",
    "import numpy as np\n",
    "import pandas as pd\n",
    "from scipy import stats\n",
    "from sklearn.externals import joblib\n",
    "from matplotlib import pyplot as plt\n",
    "plt.rcParams[u'font.sans-serif'] = ['simhei']\n",
    "plt.rcParams['axes.unicode_minus'] = False\n",
    "from sklearn.preprocessing import MinMaxScaler\n",
    "from sklearn.metrics import mean_squared_error\n",
    "from sklearn.utils import shuffle\n",
    "from scipy.optimize import curve_fit\n",
    "from sklearn import svm\n",
    "from tqdm import tqdm_notebook\n",
    "from sklearn.cross_validation import train_test_split\n",
    "from sklearn.neighbors import KNeighborsRegressor\n",
    "from sklearn.model_selection import cross_val_score\n",
    "from sklearn.tree import DecisionTreeClassifier\n",
    "from sklearn.metrics import mean_absolute_error\n",
    "from sklearn.metrics import r2_score\n",
    "from sklearn.metrics import accuracy_score\n",
    "%matplotlib inline"
   ]
  },
  {
   "cell_type": "markdown",
   "metadata": {},
   "source": [
    "在安装完lifelines之后lift.asv和lift_TF.asv的读取出现了问题，应该是pickle不兼容，需要的话lift和lift_TF的话要去Data Processing页面重新生成"
   ]
  },
  {
   "cell_type": "code",
   "execution_count": 2,
   "metadata": {
    "collapsed": true
   },
   "outputs": [],
   "source": [
    "#lift=joblib.load('lift.asv') #其实只要用这个就够了的\n",
    "#lift_TF=joblib.load('lift_TF.asv')\n",
    "lift_series_dict=joblib.load('lift_series_dict.asv')\n",
    "lift_time_series_dict=joblib.load('lift_time_series_dict.asv')\n",
    "lift_recur_train_table=joblib.load('lift_recur_train_table.asv')\n",
    "x_train=joblib.load('x_train_notsfresh_intervalPredict_0220.asv')\n",
    "x_test=joblib.load('x_test_notsfresh_intervalPredict_0220.asv')\n",
    "y_train=joblib.load('y_train_notsfresh_intervalPredict_0220.asv')\n",
    "y_test=joblib.load('y_test_notsfresh_intervalPredict_0220.asv')\n",
    "components_dict=joblib.load('components_dict.asv')\n",
    "components_dict_re=joblib.load('component_dict_re.asv')\n",
    "lift_recur_train_table_correct=joblib.load('lift_recur_train_table_correct.asv')\n",
    "lift_comp_series_dict=joblib.load('lift_comp_series_dict.asv')\n",
    "lift_comp_recur_train_table=joblib.load('lift_comp_recur_train_table.asv')\n",
    "# 模型评估\n",
    "def predict_and_score(model, X, Y):\n",
    "    pred=model.predict(X)\n",
    "    score=np.sqrt(mean_squared_error(Y,pred))\n",
    "    R=model.score(X,Y)\n",
    "    return (score,pred,R)\n",
    "\n",
    "def printModelInformation(pred,test):\n",
    "    print('MAE: ',mean_absolute_error(pred,test))\n",
    "    print('MSE: ',mean_squared_error(pred,test))\n",
    "    print('R2: ',r2_score(pred,test))"
   ]
  },
  {
   "cell_type": "code",
   "execution_count": 110,
   "metadata": {
    "scrolled": true
   },
   "outputs": [
    {
     "data": {
      "text/plain": [
       "(array([1.0000e+00, 1.1569e+05, 1.7733e+04, 1.6762e+04, 1.6019e+04,\n",
       "        1.4508e+04, 1.2936e+04, 1.1544e+04, 1.0271e+04, 9.3690e+03,\n",
       "        8.6190e+03, 6.7350e+03, 5.4310e+03, 4.4170e+03, 3.1640e+03,\n",
       "        2.2640e+03, 1.4730e+03, 8.3400e+02, 4.2800e+02, 6.0000e+01]),\n",
       " array([-22. ,  -2.9,  16.2,  35.3,  54.4,  73.5,  92.6, 111.7, 130.8,\n",
       "        149.9, 169. , 188.1, 207.2, 226.3, 245.4, 264.5, 283.6, 302.7,\n",
       "        321.8, 340.9, 360. ]),\n",
       " <a list of 20 Patch objects>)"
      ]
     },
     "execution_count": 110,
     "metadata": {},
     "output_type": "execute_result"
    },
    {
     "data": {
      "image/png": "[encoded data removed]",
      "text/plain": [
       "<Figure size 432x288 with 2 Axes>"
      ]
     },
     "metadata": {},
     "output_type": "display_data"
    }
   ],
   "source": [
    "f,(ax1,ax2)=plt.subplots(1,2)\n",
    "ax1.hist(lift_recur_train_table['nextRepairInt'],bins=20)\n",
    "ax2.hist(lift_recur_train_table['lastRepairInt'],bins=20)"
   ]
  },
  {
   "cell_type": "code",
   "execution_count": 125,
   "metadata": {
    "scrolled": true
   },
   "outputs": [
    {
     "data": {
      "text/plain": [
       "[<matplotlib.axis.XTick at 0x20340db9dd8>,\n",
       " <matplotlib.axis.XTick at 0x20340db9d30>,\n",
       " <matplotlib.axis.XTick at 0x20340db9eb8>,\n",
       " <matplotlib.axis.XTick at 0x20361b6ab70>,\n",
       " <matplotlib.axis.XTick at 0x20359dcd940>,\n",
       " <matplotlib.axis.XTick at 0x20359dcdb00>,\n",
       " <matplotlib.axis.XTick at 0x2035227ce80>,\n",
       " <matplotlib.axis.XTick at 0x20359dcdb70>,\n",
       " <matplotlib.axis.XTick at 0x203401ffcc0>,\n",
       " <matplotlib.axis.XTick at 0x20342797390>,\n",
       " <matplotlib.axis.XTick at 0x2030bb30ef0>]"
      ]
     },
     "execution_count": 125,
     "metadata": {},
     "output_type": "execute_result"
    },
    {
     "data": {
      "image/png": "[encoded data removed]",
      "text/plain": [
       "<Figure size 1080x432 with 2 Axes>"
      ]
     },
     "metadata": {},
     "output_type": "display_data"
    }
   ],
   "source": [
    "n=lift_recur_train_table_correct['nextRepairInt']\n",
    "l=lift_recur_train_table_correct['lastRepairInt']\n",
    "n[np.where(n<0)[0]]=0\n",
    "l[np.where(l<0)[0]]=0\n",
    "f,(ax3,ax4)=plt.subplots(1,2)\n",
    "f.set_figheight(6)\n",
    "f.set_figwidth(15)\n",
    "a=np.histogram(n,normed=True)\n",
    "ax3.bar(a[1][1:],a[0],width=20)\n",
    "ax3.set_xticks(a[1])\n",
    "a=np.histogram(l,normed=True)\n",
    "ax4.bar(a[1][1:],a[0],width=20)\n",
    "ax4.set_xticks(a[1])"
   ]
  },
  {
   "cell_type": "markdown",
   "metadata": {},
   "source": [
    "可以看出“下一次故障时间间隔”符合威布尔分布，而“上一次时间间隔”则是威布尔分布向左平移的结果"
   ]
  },
  {
   "cell_type": "markdown",
   "metadata": {},
   "source": [
    "# 假设\n",
    "1. PM间隔和系统的年龄年龄和历史维修次数有关(即此前做的基于历史维修次数的故障间隔预测)\n",
    "2. 针对电梯整体的失效模式进行考量，不考虑部件\n",
    "3. 走修能够将状态回复到 $\\tau$ 时刻之前，而 $\\tau$ 应当小于等于时间间隔$\\Delta t$，较优的是恢复到故障前的最小维修，最理想的是回复如新的完全维修，为了简化模型先考虑最小维修\n",
    "4. PM间隔$\\Delta t$里至多只有一次故障，因为实际情况便是，故障发生后维修，再开启新一轮的PM\n",
    "5. 决策是在每一次故障后进行"
   ]
  },
  {
   "cell_type": "markdown",
   "metadata": {},
   "source": [
    "定义变量\n",
    "\\begin{itemize}\n",
    "\\item $\\Delta t$为PM的维修时间间隔，为自变量\n",
    "\\item T为该时间距离下一次失效的时间间隔(time to failure)，由此前的故障预测模型得出\n",
    "\\item $C_{p}$为每一次PM的成本\n",
    "\\item $C_{f}$为故障出现的成本\n",
    "\\item $h(t)$ 为失效函数，符合威布尔分布[cite{canfield1986cost}], H(t)则为其累计分布函数\n",
    "\\item $[x]$为不超过x的最大整数\n",
    "\\item $\\vec{ \\beta}$ 为该电梯的各项特征的向量\n",
    "\\end{itemize}\n",
    "\n",
    "\n",
    "因而对于维保的情景下，时间成本率函数$C(\\Delta t)$的表达式可以表述为 <mark>一台电梯可以，但是要summation（求解复杂度随样本容量线性增加）,一整个系统也可以，需要mean time to failure</mark>\n",
    "\n",
    "\\begin{equation}\\label{eq:1}\n",
    "    C(\\Delta t)=\\frac{C_{p}([\\frac{T}{\\Delta t}])+ C_{f}H(\\Delta t, t,\\vec{\\beta})}{T}\n",
    "\\end{equation}\n",
    "\n",
    "约束：\n",
    "\n",
    "\\begin{itemize}\n",
    "\\item 不管是一个电梯还是一个系统，$C(\\Delta t)< [\\frac{T}{15}]C_{p}$\n",
    "\\end{itemize}\n",
    ">@article{canfield1986cost,\n",
    "  title={Cost optimization of periodic preventive maintenance},\n",
    "  author={Canfield, RV},\n",
    "  journal={IEEE Transactions on Reliability},\n",
    "  volume={35},\n",
    "  number={1},\n",
    "  pages={78--81},\n",
    "  year={1986},\n",
    "  publisher={IEEE}\n",
    "}\n",
    "\n",
    "在和通力公司员工和王启刚学长聊天后删去了系统折旧成本$C_{s}$，因为没有准确的更换年限(虽然通常是10-15年)，而且不同的设备折旧是不能够这样简单平摊考量的，更多的还是根据合同订而且数学上来看常数项的意义不是很大。\n",
    "\n",
    "目前最大的问题还是，如何把预测的T所存在的不确定性考虑进去,而且正常的优化不应考虑动态的量...所以我们就改成实时计算的，最后的决策产品上每一天的实时计算的成本，不过对于本项目而言，电梯公司并不是按照每一次维保进行成本计算,提出成本优化的思路本身及其引入的假设其实有点不切实际。"
   ]
  },
  {
   "cell_type": "markdown",
   "metadata": {},
   "source": [
    "$C_{f}$均为需要向员工请教的数，最好是经验性质的常量,$C_{p}$由彭世喆建议是300RMB/次，在访问完通力公司后，$C_{p}$基本就是工时费300RMB-400RMB/次\n",
    "\n",
    "\n",
    "以下先对失效函数h(t)进行拟合，可以近似为威布尔分布(甚至可以得知其形状变量为0.5左右)，其x轴应该是下一次故障间隔(time to failure)，y轴应该是故障所对应的统计概率"
   ]
  },
  {
   "cell_type": "markdown",
   "metadata": {},
   "source": [
    "# 尝试拟合威布尔"
   ]
  },
  {
   "cell_type": "code",
   "execution_count": 23,
   "metadata": {
    "collapsed": true
   },
   "outputs": [],
   "source": [
    "from collections import Counter\n",
    "weib=stats.exponweib\n",
    "data=pd.to_numeric(lift_recur_train_table_correct['nextRepairInt'])\n",
    "data_freq=Counter(data)\n",
    "data_freq=dict(data_freq)\n",
    "x_range=np.array(list(data_freq.keys()))\n",
    "x_range.sort()\n",
    "x_range=x_range[x_range>=0]\n",
    "y_range=np.array([data_freq[e] for e in x_range])\n",
    "#train_weib,test_weib=train_test_split(y_range,train_size=0.8)\n",
    "# 标准化\n",
    "#train_weib=train_weib/train_weib.sum()\n",
    "#test_weib=test_weib/test_weib.sum()\n",
    "y_range_norm=y_range/y_range.sum()"
   ]
  },
  {
   "cell_type": "code",
   "execution_count": 17,
   "metadata": {},
   "outputs": [
    {
     "name": "stdout",
     "output_type": "stream",
     "text": [
      "(0.9614557951157423, 0.8288205505287549, -2.3887396736043375e-14, 28.225311599554317) \n",
      " (0.24786724484274208, -3.9082189785008454e-26, 2.027631301062203)\n"
     ]
    }
   ],
   "source": [
    "#weib_params=weib.fit(y_range_norm,floc=0)\n",
    "#weib_min_params=stats.weibull_min.fit(data)\n",
    "weib_params=weib.fit(data)\n",
    "weib_min_params=stats.weibull_min.fit(data)\n",
    "print(weib_params,'\\n',weib_min_params)"
   ]
  },
  {
   "cell_type": "code",
   "execution_count": 226,
   "metadata": {},
   "outputs": [
    {
     "name": "stdout",
     "output_type": "stream",
     "text": [
      "(0.7368763658751805, 0.9531952576380552, -5.562912332258297e-29, 42.406625063417756) \n",
      " (0.8105129948921613, -2.235219326913414e-27, 30.733342988085916)\n"
     ]
    }
   ],
   "source": [
    "print(weib_params,'\\n',weib_min_params)"
   ]
  },
  {
   "cell_type": "code",
   "execution_count": 25,
   "metadata": {},
   "outputs": [
    {
     "data": {
      "text/plain": [
       "[<matplotlib.lines.Line2D at 0x24234dafa58>]"
      ]
     },
     "execution_count": 25,
     "metadata": {},
     "output_type": "execute_result"
    },
    {
     "data": {
      "image/png": "[encoded data removed]",
      "text/plain": [
       "<Figure size 432x288 with 1 Axes>"
      ]
     },
     "metadata": {},
     "output_type": "display_data"
    }
   ],
   "source": [
    "plt.plot(x_range,stats.weibull_min.cdf(x_range,weib_min_params[0],weib_min_params[1],weib_min_params[2]))"
   ]
  },
  {
   "cell_type": "code",
   "execution_count": 232,
   "metadata": {},
   "outputs": [
    {
     "data": {
      "text/plain": [
       "[<matplotlib.lines.Line2D at 0x2031b0e26d8>]"
      ]
     },
     "execution_count": 232,
     "metadata": {},
     "output_type": "execute_result"
    },
    {
     "data": {
      "image/png": "[encoded data removed]",
      "text/plain": [
       "<Figure size 432x288 with 1 Axes>"
      ]
     },
     "metadata": {},
     "output_type": "display_data"
    }
   ],
   "source": [
    "plt.plot(x_range,weib.cdf(x_range,weib_params[0],weib_params[1],weib_params[2],weib_params[3]))"
   ]
  },
  {
   "cell_type": "code",
   "execution_count": 46,
   "metadata": {},
   "outputs": [
    {
     "name": "stdout",
     "output_type": "stream",
     "text": [
      "[0.42876158]\n"
     ]
    },
    {
     "data": {
      "text/plain": [
       "[<matplotlib.lines.Line2D at 0x2421b288048>]"
      ]
     },
     "execution_count": 46,
     "metadata": {},
     "output_type": "execute_result"
    },
    {
     "data": {
      "image/png": "[encoded data removed]",
      "text/plain": [
       "<Figure size 432x288 with 1 Axes>"
      ]
     },
     "metadata": {},
     "output_type": "display_data"
    }
   ],
   "source": [
    "#def Weibull(x,n,a):\n",
    "#    return (a / n) * (x / n)**(a - 1) * np.exp(-(x / n)**a) #n（lambda）＞0是比例参数（scale parameter），a（k）＞0是形状参数（shape parameter）\n",
    "# 如果形状参数为2\n",
    "def Weibull(x,n):\n",
    "    return (2 / n) * (x / n)**(2 - 1) * np.exp(-(x / n)**2) #n（lambda）＞0是比例参数（scale parameter），a（k）＞0是形状参数（shape parameter）\n",
    "\n",
    "prop,pcov=curve_fit(Weibull,x_range,y_range_norm)\n",
    "print(prop)\n",
    "plt.plot(x_range,Weibull(x_range,prop))"
   ]
  },
  {
   "cell_type": "code",
   "execution_count": 53,
   "metadata": {},
   "outputs": [
    {
     "name": "stdout",
     "output_type": "stream",
     "text": [
      "[21.69834529]\n",
      "MAE:  0.002380228774413174\n",
      "MSE:  3.4949170277247326e-05\n",
      "R2:  0.34019574103343875\n"
     ]
    },
    {
     "data": {
      "text/plain": [
       "[<matplotlib.lines.Line2D at 0x242357daac8>]"
      ]
     },
     "execution_count": 53,
     "metadata": {},
     "output_type": "execute_result"
    },
    {
     "data": {
      "image/png": "[encoded data removed]",
      "text/plain": [
       "<Figure size 432x288 with 1 Axes>"
      ]
     },
     "metadata": {},
     "output_type": "display_data"
    }
   ],
   "source": [
    "def Rayleigh(x,sigma):\n",
    "    return x/(sigma**2)*np.exp((-x**2)/(2*(sigma**2)))\n",
    "#def Rayleigh(x,sigma,a):\n",
    "#    return a*x/(sigma**2)*np.exp((-x**2)/(2*(sigma**2)))\n",
    "prop_Rayleigh,pcov_Rayleigh=curve_fit(Rayleigh,x_range,y_range_norm)\n",
    "print(prop_Rayleigh)\n",
    "printModelInformation(Rayleigh(x_range,prop_Rayleigh),y_range_norm)\n",
    "\n",
    "plt.plot(x_range,Rayleigh(x_range,prop_Rayleigh))\n",
    "#plt.plot(x_range,Rayleigh(x_range,prop_Rayleigh[0],prop_Rayleigh[1]))"
   ]
  },
  {
   "cell_type": "code",
   "execution_count": 45,
   "metadata": {},
   "outputs": [
    {
     "data": {
      "text/plain": [
       "[<matplotlib.lines.Line2D at 0x2421af7f898>]"
      ]
     },
     "execution_count": 45,
     "metadata": {},
     "output_type": "execute_result"
    },
    {
     "data": {
      "image/png": "[encoded data removed]",
      "text/plain": [
       "<Figure size 432x288 with 1 Axes>"
      ]
     },
     "metadata": {},
     "output_type": "display_data"
    }
   ],
   "source": [
    "plt.bar(x_range,y_range_norm)\n",
    "plt.plot(x_range,Rayleigh(x_range,prop_Rayleigh),'r+')\n",
    "plt.plot(x_range,Weibull(x_range,prop),'g-')\n",
    "#plt.plot(x_range,Rayleigh(x_range,prop_Rayleigh[0],prop_Rayleigh[1]),'r+')\n",
    "#plt.plot(x_range,stats.weibull_min.cdf(x_range,weib_params[0],weib_params[1]))\n",
    "#plt.plot(x_range,weib.pdf(x_range,weib_params[0],weib_params[1]))\n",
    "#plt.plot(x_range,Weibull(x_range,prop[0],prop[1]),'r--')"
   ]
  },
  {
   "cell_type": "markdown",
   "metadata": {},
   "source": [
    "$\\lambda(x) = \\exp\\left(\\beta_0 + \\beta_1x_1 + ... + \\beta_n x_n \\right)$"
   ]
  },
  {
   "cell_type": "code",
   "execution_count": 54,
   "metadata": {
    "scrolled": true
   },
   "outputs": [
    {
     "name": "stdout",
     "output_type": "stream",
     "text": [
      "Help on method plot in module lifelines.fitters:\n",
      "\n",
      "plot(**kwargs) method of lifelines.fitters.weibull_fitter.WeibullFitter instance\n",
      "    Plots a pretty figure of WeibullFitter.cumulative_hazard_\n",
      "    \n",
      "    Matplotlib plot arguments can be passed in inside the kwargs, plus\n",
      "    \n",
      "    Parameters\n",
      "    -----------\n",
      "    show_censors: bool\n",
      "        place markers at censorship events. Default: False\n",
      "    censor_styles: bool\n",
      "        If show_censors, this dictionary will be passed into the plot call.\n",
      "    ci_alpha: bool\n",
      "        the transparency level of the confidence interval. Default: 0.3\n",
      "    ci_force_lines: bool\n",
      "        force the confidence intervals to be line plots (versus default shaded areas). Default: False\n",
      "    ci_show: bool\n",
      "        show confidence intervals. Default: True\n",
      "    ci_legend: bool\n",
      "        if ci_force_lines is True, this is a boolean flag to add the lines' labels to the legend. Default: False\n",
      "    at_risk_counts: bool\n",
      "        show group sizes at time points. See function ``add_at_risk_counts`` for details. Default: False\n",
      "    loc: slice\n",
      "        specify a time-based subsection of the curves to plot, ex:\n",
      "    \n",
      "        >>> model.plot(loc=slice(0.,10.))\n",
      "    \n",
      "        will plot the time values between t=0. and t=10.\n",
      "    iloc: slice\n",
      "        specify a location-based subsection of the curves to plot, ex:\n",
      "    \n",
      "        >>> model.plot(iloc=slice(0,10))\n",
      "    \n",
      "        will plot the first 10 time points.\n",
      "    invert_y_axis: bool\n",
      "        boolean to invert the y-axis, useful to show cumulative graphs instead of survival graphs. (Deprecated, use ``plot_cumulative_density()``)\n",
      "    \n",
      "    Returns\n",
      "    -------\n",
      "    ax:\n",
      "        a pyplot axis object\n",
      "\n"
     ]
    }
   ],
   "source": [
    "help(wf.plot)"
   ]
  },
  {
   "cell_type": "code",
   "execution_count": 56,
   "metadata": {
    "scrolled": true
   },
   "outputs": [
    {
     "name": "stdout",
     "output_type": "stream",
     "text": [
      "<lifelines.WeibullFitter: fitted with 163 observations, 7 censored>\n",
      "number of subjects = 163\n",
      "  number of events = 156\n",
      "    log-likelihood = -672.062\n",
      "        hypothesis = lambda_ != 1, rho_ != 1\n",
      "\n",
      "---\n",
      "         coef  se(coef)  lower 0.95  upper 0.95      p  -log2(p)\n",
      "lambda_ 55.73      1.33       53.13       58.33 <0.005       inf\n",
      "rho_     3.45      0.24        2.97        3.93 <0.005     76.83\n"
     ]
    },
    {
     "data": {
      "text/plain": [
       "<matplotlib.axes._subplots.AxesSubplot at 0x2423db33898>"
      ]
     },
     "execution_count": 56,
     "metadata": {},
     "output_type": "execute_result"
    },
    {
     "data": {
      "image/png": "[encoded data removed]",
      "text/plain": [
       "<Figure size 432x288 with 1 Axes>"
      ]
     },
     "metadata": {},
     "output_type": "display_data"
    }
   ],
   "source": [
    "from lifelines import WeibullFitter\n",
    "from lifelines.datasets import load_waltons\n",
    "\n",
    "data = load_waltons()\n",
    "\n",
    "T = data['T']\n",
    "E = data['E']\n",
    "\n",
    "wf = WeibullFitter().fit(T, E)\n",
    "\n",
    "wf.print_summary()\n",
    "wf.plot()"
   ]
  },
  {
   "cell_type": "markdown",
   "metadata": {},
   "source": [
    "# 最优PM维修间隔分析\n",
    "根据cite{zhang2014mixture,jardine1987application}等人的研究，失效函数h(t)可以由威布尔和cox模型进行结合，直接相乘，得到考虑多检测变量下的失效函数，即\n",
    "\\begin{equation}\\label{eq:}\n",
    "    h(t)=h_{0}(t)e^{\\beta z_{t}}\n",
    "   其中 h_{0}(t)= \\frac{k}{n}(\\frac{t}{n})^{k-1} k为形状参数，n为比例参数\n",
    "\\end{equation}\n",
    "\n",
    "故\n",
    "$H(t)=H_{0}(t)*e^{\\beta x_{1}+\\beta _{2}} H_{0}为威布尔基准的失效累计分布函数$\n",
    "\n",
    "<mark><b> $h_{0}(t)$以及后面的比例风险系数作为威布尔比例风险模型一并预测，是圣斯后面的工作</b></mark>\n",
    "\n",
    "~~此前根据圣斯拟合的生存函数$S_{0}(t) = e^{-(\\frac{t}{78.22984})^{0.58257}}$可以得知比例系数 $\\lambda=78.22984$,形状系数$k=0.58257$~~\n",
    "\n",
    "根据 https://www.itl.nist.gov/div898/handbook/eda/section3/eda3668.htm 所提供的信息，\n",
    "威布尔的失效函数累计分布函数为$H(t)=t^{k}=t^{0.58257}$\n",
    "因此\n",
    "\n",
    "\n",
    "\\begin{equation}\\label{eq:2}\n",
    "     C(\\Delta t)=\\frac{C_{p}([\\frac{T}{\\Delta t}])+ C_{f}\\Delta t^{0.58257}}{T}\n",
    "\\end{equation}\n",
    "\n",
    "\n",
    "> @article{zhang2014mixture,\n",
    "  title={A mixture Weibull proportional hazard model for mechanical system failure prediction utilising lifetime and monitoring data},\n",
    "  author={Zhang, Qing and Hua, Cheng and Xu, Guanghua},\n",
    "  journal={Mechanical Systems and Signal Processing},\n",
    "  volume={43},\n",
    "  number={1-2},\n",
    "  pages={103--112},\n",
    "  year={2014},\n",
    "  publisher={Elsevier}\n",
    "}\n",
    "\n",
    ">@article{jardine1987application,\n",
    "  title={Application of the Weibull proportional hazards model to aircraft and marine engine failure data},\n",
    "  author={Jardine, AKS and Anderson, PM and Mann, DS},\n",
    "  journal={Quality and reliability engineering international},\n",
    "  volume={3},\n",
    "  number={2},\n",
    "  pages={77--82},\n",
    "  year={1987},\n",
    "  publisher={Wiley Online Library}\n",
    "}"
   ]
  },
  {
   "cell_type": "code",
   "execution_count": 243,
   "metadata": {},
   "outputs": [
    {
     "data": {
      "text/plain": [
       "Text(0.5,1,'生存函数')"
      ]
     },
     "execution_count": 243,
     "metadata": {},
     "output_type": "execute_result"
    },
    {
     "data": {
      "image/png": "[encoded data removed]",
      "text/plain": [
       "<Figure size 432x288 with 1 Axes>"
      ]
     },
     "metadata": {},
     "output_type": "display_data"
    }
   ],
   "source": [
    "plt.plot(x_range,np.exp(-(x_range/78.22984)**0.58257))\n",
    "plt.title('生存函数')"
   ]
  },
  {
   "cell_type": "markdown",
   "metadata": {},
   "source": [
    "针对每一个预测出的故障时间间隔T，成本的最优PM维修间隔$\\Delta t$应当也是动态变化的，如果$C_{s},C_{p},C_{f}$都是常数，那么$C(\\Delta t)对\\Delta t$求导数可得\n",
    "\n",
    "\\begin{equation}\n",
    "    C'(\\Delta t)=-\\frac{C_{p}}{(\\Delta t)^{2}}+0.58257\\frac{C_{f}}{T}(\\Delta t)^{-0.41743}\n",
    "\\end{equation}\n",
    "    \n",
    "求极小值得\n",
    "\n",
    "$$\n",
    "    (\\Delta t)^{1.58257}=\\frac{C_{p}*T}{0.58257C_{f}}\n",
    "$$\n",
    "可以得到成本的函数，但是否也可以对$C_{p}$由于PM维保的灵活性也灵活地变化？或许可以看看相关文献\n",
    "\n",
    "还不能求导！之前没考虑$[\\frac{T}{\\Delta t}]$"
   ]
  },
  {
   "cell_type": "markdown",
   "metadata": {},
   "source": [
    "# 维保可视化产品思路\n",
    "\n",
    "维保可视化产品功能构思：\n",
    "* 范围锁定在一个特定地点的电梯（比如虹桥枢纽），做成日历的形式，每一天点开可以得到电梯基本的信息并且能够获取前述的预测信息和成本信息，当需要最优维保的时候，可以预警！"
   ]
  },
  {
   "cell_type": "code",
   "execution_count": 3,
   "metadata": {
    "collapsed": true
   },
   "outputs": [],
   "source": [
    "# Model 类\n",
    "from sklearn.externals import joblib\n",
    "import pandas as pd\n",
    "import numpy as np\n",
    "import calendar\n",
    "import datetime\n",
    "from scipy.optimize import fsolve\n",
    "import sympy as sp\n",
    "\n",
    "class Model:\n",
    "    def __init__(self,year=2014,month=5,day=6):\n",
    "        # Import date and models\n",
    "        #print('loading data and models')\n",
    "        self.svr_model=joblib.load('svr_all.joblib')\n",
    "        self.samples=pd.read_csv('test_sample3.csv')\n",
    "        self.c=calendar.Calendar()\n",
    "        # Only use data in Shanghai and Kunshan\n",
    "        # | (self.samples['City']=='北京') | (self.samples['City']=='深圳')\n",
    "        self.place=((self.samples['City']=='上海') | (self.samples['City']=='昆山'))\n",
    "        self.samples=self.samples[self.place]\n",
    "        self.samples=self.samples.reset_index()\n",
    "        # Filter data according to the dates\n",
    "        self.year=year\n",
    "        self.month=month\n",
    "        self.day=day\n",
    "        self.now=datetime.datetime(self.year,self.month,self.day)\n",
    "        print('->model.now:',self.now)\n",
    "        self.lr=self.samples['last_repair']\n",
    "        self.lr_=[]\n",
    "        for x in self.lr:\n",
    "            self.lr_.append(self.now) if x is np.nan else self.lr_.append(datetime.datetime.strptime(str(x),'%Y-%m-%d %H:%M:%S'))\n",
    "\n",
    "        self.t=[self.now-e for e in self.lr_]\n",
    "        self.t=np.array([e.days for e in self.t])# Time between last repair time and now\n",
    "\n",
    "        ## Get predicted failure dates\n",
    "        self.dates_=[datetime.datetime.strptime(x,'%Y-%m-%d') for x in self.samples['date']]\n",
    "        self.dates_=np.array(self.dates_)\n",
    "        self.train_samples=self.samples[['lowbound','median','mean','upbound']]\n",
    "        #print('Predicting falure intervals')\n",
    "\n",
    "        self.beta=self.samples[['Action','Business','ContractType','CityLV','TH','MM_Mini','MM_Mono']]\n",
    "        self.beta=self.beta.as_matrix()\n",
    "\n",
    "        self.pred_samples=self.svr_model.predict(self.train_samples)# Time to failure\n",
    "\n",
    "        self.pred_samples=[int(e) for e in self.pred_samples]\n",
    "        self.delta=[datetime.timedelta(e) for e in self.pred_samples]\n",
    "        self.dates=self.dates_+self.delta # Here is the predicted time stamps\n",
    "        self.pred_samples=np.array(self.pred_samples)\n",
    "\n",
    "\n",
    "        #self.dates_filter=datetime.datetime(self.year,self.month,self.day)+datetime.timedelta(days=30) # # Filter the predicted failure within this month and next month\n",
    "        self.dates_filter=datetime.datetime(self.year,self.month,30)\n",
    "        #print('->model.dates_filter:{:}'.format(self.dates_filter))\n",
    "\n",
    "        # Variables for optimization\n",
    "        self.dt=sp.symbols('dt',real=True,positive=True)\n",
    "\n",
    "        # Final output for GUI\n",
    "        self.index=((self.dates>=self.now) & (self.dates<=self.dates_filter) )\n",
    "        self.index=np.where(self.index)[0]\n",
    "\n",
    "        self.pred_dates_selected=self.dates[self.index]\n",
    "        #print('->Number of model.pred_dates_selected:',np.count_nonzero(self.pred_dates_selected))\n",
    "        #print('Initialization finished')\n",
    "        #self.pred_{:}_selected=self.{:}[self.index]\n",
    "    \n",
    "    def printSelectedResults(self):\n",
    "        # This function returns strings to be shown in Reminder Popup\n",
    "        title='Number\\t Last_Repair_Days\\t Business_Type\\t Description\\t City\\t Speed\\t Equipment_Type\\t Predicted_Failure_Days\\n'\n",
    "        body=''\n",
    "        #test_idx=slice(10) #Used for test label widget could not hold all the outputs\n",
    "        #print('***',self.index)\n",
    "        '''\n",
    "        num=self.samples['equip_no'][self.index]\n",
    "        lrt=self.samples['last_repair'][self.index]\n",
    "        bstype=self.samples['Business type'][self.index]\n",
    "        desc=self.samples['Description'][self.index]\n",
    "        city=self.samples['City'][self.index]\n",
    "        speed=self.samples['速度'][self.index]\n",
    "        eqtype=self.samples['设备型号'][self.index]\n",
    "        '''\n",
    "        num=self.samples['equip_no'][self.index]\n",
    "        lrt=self.t[self.index]\n",
    "        bstype=self.samples['Business type'][self.index]\n",
    "        desc=self.samples['Description'][self.index]\n",
    "        city=self.samples['City'][self.index]\n",
    "        speed=self.samples['速度'][self.index]\n",
    "        eqtype=self.samples['设备型号'][self.index]\n",
    "        next_rep=self.samples['T'][self.index]\n",
    "\n",
    "        conts=zip(num,lrt,bstype,desc,city,speed,eqtype,next_rep)\n",
    "        for cont in conts:\n",
    "            for item in cont:\n",
    "                body=body+str(item)+'\\t'\n",
    "            body=body+'\\n'\n",
    "        return title+body\n",
    "    \n",
    "    def surviveFuncCum(self,dt,t,beta):\n",
    "        # Weibull cox function, haven't got information of beta\n",
    "        #print('beta in surviveFuncCum:',beta)\n",
    "        return np.exp(-0.091*beta[0]+0.015*beta[1]+0.049*beta[2]+0.109*beta[3]+0.051*beta[4]+0.121*beta[5]-0.136*beta[6])*((t+dt)/111.634)**0.652\n",
    "    \n",
    "    def costFunc(self,dt,T,t,beta):\n",
    "        Cp=400\n",
    "        Cf=4*Cp\n",
    "        #print('***surviveFuncCum results:',self.surviveFuncCum(dt=dt,t=t,beta=beta))\n",
    "        if T>t:\n",
    "            return (Cp*(T-t/dt)+Cf*self.surviveFuncCum(dt=dt,t=t,beta=beta))/(T-t)\n",
    "        else:\n",
    "            return (Cp+Cf*self.surviveFuncCum(dt=dt,t=t,beta=beta))/T\n",
    "\n",
    "    def findBestMaintInterval(self):\n",
    "        # Function that find the best maintenance date based on selected predicted results\n",
    "        # For each station\n",
    "\n",
    "        self.Ct_single=[self.costFunc(dt=self.dt,T=self.pred_samples[e],t=self.t[e],beta=self.beta[e]) for e in self.index]\n",
    "\n",
    "        self.Ct=np.mean(self.Ct_single)\n",
    "        self.Ct_diff=sp.diff(self.Ct)\n",
    "        self.Ct_lambda=sp.lambdify(self.dt,self.Ct,'numpy')\n",
    "\n",
    "\n",
    "        self.Ct_diff_lambda=sp.lambdify(self.dt,self.Ct_diff,'numpy')\n",
    "\n",
    "        self.res=[]\n",
    "        for i in range(30):\n",
    "            #print(self.Ct_lambda(i))\n",
    "            self.res.append(self.Ct_lambda(i)) if self.Ct_lambda(i) is not np.nan else self.res.append(-1)\n",
    "        self.res=np.array(self.res)\n",
    "        if len(self.res[self.res>0])>0:\n",
    "            print('->Maintenance interval:',np.where(self.res==np.min(self.res[self.res>0])),' days with money',np.min(self.res[self.res>0]))\n",
    "            #for test\n",
    "            #print('->model.Ct',self.Ct)\n",
    "            #print('->model.Ct_diff:',self.Ct_diff)\n",
    "            #print('->model.fsolve result:',fsolve(self.Ct_diff_lambda,15))\n",
    "            return int(np.where(self.res==np.min(self.res[self.res>0]))[0])\n",
    "        else:\n",
    "            return 0"
   ]
  },
  {
   "cell_type": "code",
   "execution_count": 4,
   "metadata": {
    "collapsed": true
   },
   "outputs": [],
   "source": [
    "#加载最优维保时间间隔数据（此前生成的）\n",
    "mons_best_int=joblib.load('mons_best_int_np.asv')"
   ]
  },
  {
   "cell_type": "code",
   "execution_count": 63,
   "metadata": {},
   "outputs": [
    {
     "data": {
      "image/png": "[encoded data removed]",
      "text/plain": [
       "<Figure size 576x432 with 1 Axes>"
      ]
     },
     "metadata": {},
     "output_type": "display_data"
    }
   ],
   "source": [
    "from matplotlib import pyplot as plt\n",
    "%matplotlib inline\n",
    "plt.rcParams['axes.facecolor'] = 'white'\n",
    "plt.rcParams['font.sans-serif']=['SimHei']\n",
    "fig,ax=plt.subplots(1,1,figsize=(8,6))\n",
    "mon_cnt=3\n",
    "for mon in mons_best_int[2:]:\n",
    "    ax.plot(mon,label='{:}月'.format(mon_cnt))\n",
    "    mon_cnt+=1\n",
    "plt.legend()\n",
    "plt.xticks(np.arange(0,32,2))\n",
    "plt.yticks(np.arange(0,32,2))\n",
    "plt.xlabel('当前日期(x月x日)',fontsize=16)\n",
    "plt.ylabel('预防性维保距离本日间隔/天',fontsize=16)\n",
    "plt.title('一月一次维保下维保间隔随每天变化图',fontsize=20)\n",
    "plt.savefig('最优维保间隔优化结果图.png')\n",
    "plt.show()"
   ]
  },
  {
   "cell_type": "code",
   "execution_count": 58,
   "metadata": {},
   "outputs": [
    {
     "data": {
      "text/plain": [
       "array([list([0, 0, 0, 0, 0, 0, 0, 0, 0, 0, 0, 0, 0, 0, 0, 0, 0, 0, 0, 0, 0, 0, 0, 0, 0, 0, 0, 0, 0, 0, 0]),\n",
       "       list([0, 0, 0, 0, 0, 0, 0, 0, 0, 0, 0, 0, 0, 0, 0, 0, 0, 0, 0, 0, 0, 0, 0, 0, 0, 0, 0, 0]),\n",
       "       list([9, 8, 7, 6, 5, 4, 4, 2, 1, 1, 1, 1, 1, 1, 0, 0, 0, 0, 0, 0, 0, 0, 0, 0, 0, 0, 0, 0, 0, 0, 0]),\n",
       "       list([15, 14, 14, 12, 11, 10, 9, 8, 7, 6, 5, 4, 4, 2, 1, 1, 1, 1, 1, 1, 1, 1, 1, 0, 0, 0, 0, 0, 0, 0]),\n",
       "       list([12, 11, 10, 9, 8, 7, 6, 5, 4, 4, 2, 1, 1, 1, 1, 1, 1, 1, 1, 0, 0, 0, 0, 0, 0, 0, 0, 0, 0, 0, 0]),\n",
       "       list([20, 18, 17, 17, 15, 14, 14, 12, 11, 10, 9, 8, 7, 6, 5, 4, 4, 2, 1, 0, 0, 0, 0, 0, 0, 0, 0, 0, 0, 0]),\n",
       "       list([15, 14, 14, 12, 11, 10, 9, 8, 7, 6, 5, 4, 4, 2, 1, 1, 1, 1, 1, 1, 1, 1, 1, 0, 0, 0, 0, 0, 0, 0, 0]),\n",
       "       list([17, 17, 15, 14, 14, 12, 11, 10, 9, 8, 7, 6, 5, 4, 4, 2, 1, 1, 1, 1, 1, 1, 1, 1, 1, 0, 0, 0, 0, 0, 0]),\n",
       "       list([17, 17, 15, 14, 14, 12, 11, 10, 9, 8, 7, 6, 5, 4, 4, 2, 1, 1, 1, 1, 1, 1, 1, 0, 0, 0, 0, 0, 0, 0]),\n",
       "       list([14, 12, 11, 10, 9, 8, 7, 6, 5, 4, 4, 2, 1, 1, 1, 1, 1, 1, 1, 1, 1, 0, 0, 0, 0, 0, 0, 0, 0, 0, 0]),\n",
       "       list([20, 20, 18, 17, 17, 15, 14, 14, 12, 11, 10, 9, 8, 7, 6, 5, 4, 4, 2, 1, 0, 1, 1, 1, 0, 0, 0, 0, 0, 0]),\n",
       "       list([11, 10, 9, 8, 7, 6, 5, 4, 4, 2, 1, 1, 1, 1, 1, 1, 1, 1, 1, 1, 0, 0, 0, 0, 0, 0, 0, 0, 0, 0, 0])],\n",
       "      dtype=object)"
      ]
     },
     "execution_count": 58,
     "metadata": {},
     "output_type": "execute_result"
    }
   ],
   "source": [
    "mons_best_int"
   ]
  },
  {
   "cell_type": "code",
   "execution_count": 60,
   "metadata": {},
   "outputs": [
    {
     "name": "stderr",
     "output_type": "stream",
     "text": [
      "No handles with labels found to put in legend.\n"
     ]
    },
    {
     "data": {
      "image/png": "[encoded data removed]",
      "text/plain": [
       "<Figure size 576x432 with 1 Axes>"
      ]
     },
     "metadata": {},
     "output_type": "display_data"
    }
   ],
   "source": [
    "from matplotlib import pyplot as plt\n",
    "%matplotlib inline\n",
    "plt.rcParams['axes.facecolor'] = 'white'\n",
    "plt.rcParams['font.sans-serif']=['SimHei']\n",
    "fig,ax=plt.subplots(1,1,figsize=(8,6))\n",
    "#mon_cnt=4\n",
    "#for mon in mons_best_int[3:8]:\n",
    "#    ax.plot(mon,label='{:}月'.format(mon_cnt))\n",
    "#    mon_cnt+=1\n",
    "ax.plot(mons_best_int[7])\n",
    "plt.legend()\n",
    "plt.xticks(np.arange(0,32,2))\n",
    "plt.yticks(np.arange(0,32,2))\n",
    "plt.xlabel('当前日期(8月x日)',fontsize=16)\n",
    "plt.ylabel('预防性维保距离本日间隔/天',fontsize=16)\n",
    "plt.title('8月份最优维保间隔优化结果图',fontsize=20)\n",
    "plt.savefig('8月份最优维保间隔优化结果图.png')\n",
    "plt.show()"
   ]
  },
  {
   "cell_type": "code",
   "execution_count": 35,
   "metadata": {},
   "outputs": [
    {
     "data": {
      "image/png": "[encoded data removed]",
      "text/plain": [
       "<Figure size 576x432 with 1 Axes>"
      ]
     },
     "metadata": {},
     "output_type": "display_data"
    }
   ],
   "source": [
    "fig,ax=plt.subplots(1,1,figsize=(8,6))\n",
    "mon_cnt=1\n",
    "for mon in mons_best_int:\n",
    "    x=list(range(len(mon)))\n",
    "    mon_x=[]\n",
    "    for i in range(len(x)):\n",
    "        mon_x.append(mon[i]+x[i])\n",
    "    ax.plot(mon_x,label='{:}月'.format(mon_cnt))\n",
    "    mon_cnt+=1\n",
    "ax.legend()\n",
    "plt.xticks(np.arange(0,32,2))\n",
    "plt.yticks(np.arange(0,32,2))\n",
    "plt.xlabel('当前日期',fontsize=16)\n",
    "plt.ylabel('预防性维保日期',fontsize=16)\n",
    "plt.title('最优维保日期图',fontsize=20)\n",
    "plt.savefig('最优维保日期图.png')"
   ]
  },
  {
   "cell_type": "code",
   "execution_count": 17,
   "metadata": {},
   "outputs": [
    {
     "name": "stdout",
     "output_type": "stream",
     "text": [
      "->model.now: 2014-08-01 00:00:00\n"
     ]
    },
    {
     "name": "stderr",
     "output_type": "stream",
     "text": [
      "C:\\Software\\Programming\\Anaconda\\lib\\site-packages\\ipykernel_launcher.py:41: FutureWarning: Method .as_matrix will be removed in a future version. Use .values instead.\n",
      "C:\\Software\\Programming\\Anaconda\\lib\\site-packages\\numpy\\__init__.py:1: RuntimeWarning: invalid value encountered in double_scalars\n",
      "  \"\"\"\n",
      "C:\\Software\\Programming\\Anaconda\\lib\\site-packages\\numpy\\__init__.py:1: RuntimeWarning: divide by zero encountered in long_scalars\n",
      "  \"\"\"\n",
      "C:\\Software\\Programming\\Anaconda\\lib\\site-packages\\numpy\\__init__.py:1: RuntimeWarning: invalid value encountered in double_scalars\n",
      "  \"\"\"\n",
      "C:\\Software\\Programming\\Anaconda\\lib\\site-packages\\ipykernel_launcher.py:165: RuntimeWarning: invalid value encountered in greater\n",
      "C:\\Software\\Programming\\Anaconda\\lib\\site-packages\\ipykernel_launcher.py:166: RuntimeWarning: invalid value encountered in greater\n"
     ]
    },
    {
     "name": "stdout",
     "output_type": "stream",
     "text": [
      "->Maintenance interval: (array([20], dtype=int64),)  days with money 167.76330235409412\n"
     ]
    },
    {
     "name": "stderr",
     "output_type": "stream",
     "text": [
      "C:\\Software\\Programming\\Anaconda\\lib\\site-packages\\ipykernel_launcher.py:171: RuntimeWarning: invalid value encountered in greater\n"
     ]
    },
    {
     "data": {
      "text/plain": [
       "20"
      ]
     },
     "execution_count": 17,
     "metadata": {},
     "output_type": "execute_result"
    }
   ],
   "source": [
    "model=Model(year=2014,month=8,day=1,label=0)\n",
    "model.findBestMaintInterval()"
   ]
  },
  {
   "cell_type": "code",
   "execution_count": 50,
   "metadata": {},
   "outputs": [
    {
     "name": "stdout",
     "output_type": "stream",
     "text": [
      "->model.now: 2014-02-01 00:00:00\n"
     ]
    },
    {
     "name": "stderr",
     "output_type": "stream",
     "text": [
      "C:\\Software\\Programming\\Anaconda\\lib\\site-packages\\ipykernel_launcher.py:41: FutureWarning: Method .as_matrix will be removed in a future version. Use .values instead.\n",
      "C:\\Software\\Programming\\Anaconda\\lib\\site-packages\\numpy\\__init__.py:1: RuntimeWarning: invalid value encountered in double_scalars\n",
      "  \"\"\"\n",
      "C:\\Software\\Programming\\Anaconda\\lib\\site-packages\\numpy\\__init__.py:1: RuntimeWarning: divide by zero encountered in true_divide\n",
      "  \"\"\"\n",
      "C:\\Software\\Programming\\Anaconda\\lib\\site-packages\\numpy\\__init__.py:1: RuntimeWarning: invalid value encountered in double_scalars\n",
      "  \"\"\"\n",
      "C:\\Software\\Programming\\Anaconda\\lib\\site-packages\\ipykernel_launcher.py:165: RuntimeWarning: invalid value encountered in greater\n",
      "C:\\Software\\Programming\\Anaconda\\lib\\site-packages\\ipykernel_launcher.py:166: RuntimeWarning: invalid value encountered in greater\n"
     ]
    },
    {
     "name": "stdout",
     "output_type": "stream",
     "text": [
      "->Maintenance interval: (array([17], dtype=int64),)  days with money 23.529411768915256\n"
     ]
    },
    {
     "name": "stderr",
     "output_type": "stream",
     "text": [
      "C:\\Software\\Programming\\Anaconda\\lib\\site-packages\\ipykernel_launcher.py:171: RuntimeWarning: invalid value encountered in greater\n"
     ]
    },
    {
     "name": "stdout",
     "output_type": "stream",
     "text": [
      "->model.now: 2014-03-01 00:00:00\n"
     ]
    },
    {
     "name": "stderr",
     "output_type": "stream",
     "text": [
      "C:\\Software\\Programming\\Anaconda\\lib\\site-packages\\numpy\\__init__.py:1: RuntimeWarning: invalid value encountered in double_scalars\n",
      "  \"\"\"\n",
      "C:\\Software\\Programming\\Anaconda\\lib\\site-packages\\numpy\\__init__.py:1: RuntimeWarning: divide by zero encountered in true_divide\n",
      "  \"\"\"\n",
      "C:\\Software\\Programming\\Anaconda\\lib\\site-packages\\numpy\\__init__.py:1: RuntimeWarning: invalid value encountered in double_scalars\n",
      "  \"\"\"\n"
     ]
    },
    {
     "name": "stdout",
     "output_type": "stream",
     "text": [
      "->Maintenance interval: (array([20], dtype=int64),)  days with money 88.08227926084552\n",
      "->model.now: 2014-04-01 00:00:00\n"
     ]
    },
    {
     "name": "stderr",
     "output_type": "stream",
     "text": [
      "C:\\Software\\Programming\\Anaconda\\lib\\site-packages\\numpy\\__init__.py:1: RuntimeWarning: invalid value encountered in double_scalars\n",
      "  \"\"\"\n",
      "C:\\Software\\Programming\\Anaconda\\lib\\site-packages\\numpy\\__init__.py:1: RuntimeWarning: divide by zero encountered in long_scalars\n",
      "  \"\"\"\n",
      "C:\\Software\\Programming\\Anaconda\\lib\\site-packages\\numpy\\__init__.py:1: RuntimeWarning: invalid value encountered in double_scalars\n",
      "  \"\"\"\n"
     ]
    },
    {
     "name": "stdout",
     "output_type": "stream",
     "text": [
      "->Maintenance interval: (array([25], dtype=int64),)  days with money 185.25215612985014\n",
      "->model.now: 2014-05-01 00:00:00\n"
     ]
    },
    {
     "name": "stderr",
     "output_type": "stream",
     "text": [
      "C:\\Software\\Programming\\Anaconda\\lib\\site-packages\\numpy\\__init__.py:1: RuntimeWarning: divide by zero encountered in long_scalars\n",
      "  \"\"\"\n",
      "C:\\Software\\Programming\\Anaconda\\lib\\site-packages\\numpy\\__init__.py:1: RuntimeWarning: invalid value encountered in double_scalars\n",
      "  \"\"\"\n"
     ]
    },
    {
     "name": "stdout",
     "output_type": "stream",
     "text": [
      "->Maintenance interval: (array([12], dtype=int64),)  days with money 154.37394965791464\n",
      "->model.now: 2014-06-01 00:00:00\n"
     ]
    },
    {
     "name": "stderr",
     "output_type": "stream",
     "text": [
      "C:\\Software\\Programming\\Anaconda\\lib\\site-packages\\numpy\\__init__.py:1: RuntimeWarning: invalid value encountered in double_scalars\n",
      "  \"\"\"\n",
      "C:\\Software\\Programming\\Anaconda\\lib\\site-packages\\numpy\\__init__.py:1: RuntimeWarning: divide by zero encountered in long_scalars\n",
      "  \"\"\"\n",
      "C:\\Software\\Programming\\Anaconda\\lib\\site-packages\\numpy\\__init__.py:1: RuntimeWarning: invalid value encountered in double_scalars\n",
      "  \"\"\"\n"
     ]
    },
    {
     "name": "stdout",
     "output_type": "stream",
     "text": [
      "->Maintenance interval: (array([23], dtype=int64),)  days with money 254.44670136951126\n",
      "->model.now: 2014-07-01 00:00:00\n"
     ]
    },
    {
     "name": "stderr",
     "output_type": "stream",
     "text": [
      "C:\\Software\\Programming\\Anaconda\\lib\\site-packages\\numpy\\__init__.py:1: RuntimeWarning: invalid value encountered in double_scalars\n",
      "  \"\"\"\n",
      "C:\\Software\\Programming\\Anaconda\\lib\\site-packages\\numpy\\__init__.py:1: RuntimeWarning: divide by zero encountered in long_scalars\n",
      "  \"\"\"\n",
      "C:\\Software\\Programming\\Anaconda\\lib\\site-packages\\numpy\\__init__.py:1: RuntimeWarning: invalid value encountered in double_scalars\n",
      "  \"\"\"\n"
     ]
    },
    {
     "name": "stdout",
     "output_type": "stream",
     "text": [
      "->Maintenance interval: (array([20], dtype=int64),)  days with money 178.24480001217339\n",
      "->model.now: 2014-08-01 00:00:00\n"
     ]
    },
    {
     "name": "stderr",
     "output_type": "stream",
     "text": [
      "C:\\Software\\Programming\\Anaconda\\lib\\site-packages\\numpy\\__init__.py:1: RuntimeWarning: invalid value encountered in double_scalars\n",
      "  \"\"\"\n",
      "C:\\Software\\Programming\\Anaconda\\lib\\site-packages\\numpy\\__init__.py:1: RuntimeWarning: divide by zero encountered in long_scalars\n",
      "  \"\"\"\n",
      "C:\\Software\\Programming\\Anaconda\\lib\\site-packages\\numpy\\__init__.py:1: RuntimeWarning: invalid value encountered in double_scalars\n",
      "  \"\"\"\n"
     ]
    },
    {
     "name": "stdout",
     "output_type": "stream",
     "text": [
      "->Maintenance interval: (array([20], dtype=int64),)  days with money 167.76330235409412\n",
      "->model.now: 2014-09-01 00:00:00\n"
     ]
    },
    {
     "name": "stderr",
     "output_type": "stream",
     "text": [
      "C:\\Software\\Programming\\Anaconda\\lib\\site-packages\\numpy\\__init__.py:1: RuntimeWarning: invalid value encountered in double_scalars\n",
      "  \"\"\"\n",
      "C:\\Software\\Programming\\Anaconda\\lib\\site-packages\\numpy\\__init__.py:1: RuntimeWarning: divide by zero encountered in long_scalars\n",
      "  \"\"\"\n",
      "C:\\Software\\Programming\\Anaconda\\lib\\site-packages\\numpy\\__init__.py:1: RuntimeWarning: invalid value encountered in double_scalars\n",
      "  \"\"\"\n"
     ]
    },
    {
     "name": "stdout",
     "output_type": "stream",
     "text": [
      "->Maintenance interval: (array([23], dtype=int64),)  days with money 208.0032040126077\n",
      "->model.now: 2014-10-01 00:00:00\n"
     ]
    },
    {
     "name": "stderr",
     "output_type": "stream",
     "text": [
      "C:\\Software\\Programming\\Anaconda\\lib\\site-packages\\numpy\\__init__.py:1: RuntimeWarning: divide by zero encountered in long_scalars\n",
      "  \"\"\"\n",
      "C:\\Software\\Programming\\Anaconda\\lib\\site-packages\\numpy\\__init__.py:1: RuntimeWarning: invalid value encountered in double_scalars\n",
      "  \"\"\"\n"
     ]
    },
    {
     "name": "stdout",
     "output_type": "stream",
     "text": [
      "->Maintenance interval: (array([12], dtype=int64),)  days with money 211.2534705852962\n",
      "->model.now: 2014-11-01 00:00:00\n"
     ]
    },
    {
     "name": "stderr",
     "output_type": "stream",
     "text": [
      "C:\\Software\\Programming\\Anaconda\\lib\\site-packages\\numpy\\__init__.py:1: RuntimeWarning: divide by zero encountered in long_scalars\n",
      "  \"\"\"\n",
      "C:\\Software\\Programming\\Anaconda\\lib\\site-packages\\numpy\\__init__.py:1: RuntimeWarning: invalid value encountered in double_scalars\n",
      "  \"\"\"\n"
     ]
    },
    {
     "name": "stdout",
     "output_type": "stream",
     "text": [
      "->Maintenance interval: (array([14], dtype=int64),)  days with money 149.56823468076183\n",
      "->model.now: 2014-12-01 00:00:00\n"
     ]
    },
    {
     "name": "stderr",
     "output_type": "stream",
     "text": [
      "C:\\Software\\Programming\\Anaconda\\lib\\site-packages\\numpy\\__init__.py:1: RuntimeWarning: invalid value encountered in double_scalars\n",
      "  \"\"\"\n",
      "C:\\Software\\Programming\\Anaconda\\lib\\site-packages\\numpy\\__init__.py:1: RuntimeWarning: divide by zero encountered in long_scalars\n",
      "  \"\"\"\n",
      "C:\\Software\\Programming\\Anaconda\\lib\\site-packages\\numpy\\__init__.py:1: RuntimeWarning: invalid value encountered in double_scalars\n",
      "  \"\"\"\n"
     ]
    },
    {
     "name": "stdout",
     "output_type": "stream",
     "text": [
      "->Maintenance interval: (array([26], dtype=int64),)  days with money 233.07152436022432\n",
      "[0.09803921570381356, 0.27525712269014224, 0.6810741034185667, 0.5242467943585251, 0.852667137568043, 0.6481629091351759, 0.5864606967886765, 0.7635038242526276, 0.7828530159963963, 0.5562800674648021, 0.8714399915238474]\n"
     ]
    },
    {
     "data": {
      "image/png": "[encoded data removed]",
      "text/plain": [
       "<Figure size 576x432 with 1 Axes>"
      ]
     },
     "metadata": {},
     "output_type": "display_data"
    }
   ],
   "source": [
    "from matplotlib import pyplot as plt\n",
    "%matplotlib inline\n",
    "plt.rcParams['axes.facecolor'] = 'white'\n",
    "plt.rcParams['font.sans-serif']=['SimHei']\n",
    "fig,ax=plt.subplots(1,1,figsize=(8,6))\n",
    "cost_ratio=[]\n",
    "for i in range(2,13):\n",
    "    m=Model(year=2014,month=i,day=1,label=0)\n",
    "    t=m.findBestMaintInterval()\n",
    "    c=m.Ct_lambda(t)/(len(m.index)*160/len(m.index_unique)+40*2)\n",
    "    cost_ratio.append(c)\n",
    "print(cost_ratio)\n",
    "ax.bar(list(range(2,13)),cost_ratio)\n",
    "plt.xticks(np.arange(2,13,1))\n",
    "plt.yticks(np.arange(0,1.1,0.1))\n",
    "plt.xlabel('当前月份',fontsize=16)\n",
    "plt.ylabel('按需维保成本/实际维保成本',fontsize=16)\n",
    "plt.title('按需维保按不同月份成本节省柱状图',fontsize=20)\n",
    "plt.savefig('按需维保按不同月份成本节省柱状图.png')"
   ]
  },
  {
   "cell_type": "code",
   "execution_count": null,
   "metadata": {
    "collapsed": true
   },
   "outputs": [],
   "source": [
    "fig, ax = plt.subplots()\n",
    "x_ticks=[]\n",
    "for lab in range(0,6):\n",
    "    model=Model(year=2014,month=8,day=1,label=lab)\n",
    "    ax.bar(lab,2+model.findBestMaintInterval())\n",
    "    x_ticks.append(len(model.samples))\n",
    "ax.set_xticks(range(0,6))\n",
    "ax.set_xticklabels(x_ticks)"
   ]
  },
  {
   "cell_type": "code",
   "execution_count": 46,
   "metadata": {},
   "outputs": [
    {
     "name": "stdout",
     "output_type": "stream",
     "text": [
      "->model.now: 2014-01-01 00:00:00\n"
     ]
    },
    {
     "name": "stderr",
     "output_type": "stream",
     "text": [
      "C:\\Software\\Programming\\Anaconda\\lib\\site-packages\\ipykernel_launcher.py:41: FutureWarning: Method .as_matrix will be removed in a future version. Use .values instead.\n"
     ]
    }
   ],
   "source": [
    "m=Model(year=2014,month=1,day=1,label=0)"
   ]
  },
  {
   "cell_type": "code",
   "execution_count": 48,
   "metadata": {},
   "outputs": [
    {
     "name": "stderr",
     "output_type": "stream",
     "text": [
      "C:\\Software\\Programming\\Anaconda\\lib\\site-packages\\numpy\\core\\fromnumeric.py:2957: RuntimeWarning: Mean of empty slice.\n",
      "  out=out, **kwargs)\n",
      "C:\\Software\\Programming\\Anaconda\\lib\\site-packages\\numpy\\core\\_methods.py:80: RuntimeWarning: invalid value encountered in double_scalars\n",
      "  ret = ret.dtype.type(ret / rcount)\n"
     ]
    },
    {
     "data": {
      "text/plain": [
       "nan"
      ]
     },
     "execution_count": 48,
     "metadata": {},
     "output_type": "execute_result"
    }
   ],
   "source": [
    "m.findBestMaintInterval()\n",
    "m.Ct_lambda(0)"
   ]
  },
  {
   "cell_type": "code",
   "execution_count": 30,
   "metadata": {},
   "outputs": [
    {
     "data": {
      "text/plain": [
       "[<matplotlib.lines.Line2D at 0x27050870c88>]"
      ]
     },
     "execution_count": 30,
     "metadata": {},
     "output_type": "execute_result"
    },
    {
     "data": {
      "image/png": "[encoded data removed]",
      "text/plain": [
       "<Figure size 432x288 with 1 Axes>"
      ]
     },
     "metadata": {},
     "output_type": "display_data"
    }
   ],
   "source": [
    "%matplotlib inline\n",
    "plt.plot(mon_x)"
   ]
  },
  {
   "cell_type": "code",
   "execution_count": 40,
   "metadata": {},
   "outputs": [
    {
     "name": "stdout",
     "output_type": "stream",
     "text": [
      "->model.now: 2014-05-02 00:00:00\n"
     ]
    },
    {
     "name": "stderr",
     "output_type": "stream",
     "text": [
      "C:\\Software\\Programming\\Anaconda\\lib\\site-packages\\ipykernel_launcher.py:42: FutureWarning: Method .as_matrix will be removed in a future version. Use .values instead.\n"
     ]
    }
   ],
   "source": [
    "m=Model(year=2014,month=5,day=2)"
   ]
  },
  {
   "cell_type": "code",
   "execution_count": 44,
   "metadata": {},
   "outputs": [
    {
     "name": "stdout",
     "output_type": "stream",
     "text": [
      "->Maintenance interval: (array([11], dtype=int64),)  days with money 471.864856805092\n"
     ]
    },
    {
     "name": "stderr",
     "output_type": "stream",
     "text": [
      "C:\\Software\\Programming\\Anaconda\\lib\\site-packages\\numpy\\__init__.py:1: RuntimeWarning: divide by zero encountered in long_scalars\n",
      "  \"\"\"\n",
      "C:\\Software\\Programming\\Anaconda\\lib\\site-packages\\numpy\\__init__.py:1: RuntimeWarning: invalid value encountered in double_scalars\n",
      "  \"\"\"\n",
      "C:\\Software\\Programming\\Anaconda\\lib\\site-packages\\ipykernel_launcher.py:134: RuntimeWarning: invalid value encountered in greater\n",
      "C:\\Software\\Programming\\Anaconda\\lib\\site-packages\\ipykernel_launcher.py:135: RuntimeWarning: invalid value encountered in greater\n",
      "C:\\Software\\Programming\\Anaconda\\lib\\site-packages\\ipykernel_launcher.py:140: RuntimeWarning: invalid value encountered in greater\n"
     ]
    }
   ],
   "source": [
    "m.findBestMaintInterval()\n",
    "a=m.Ct_lambda\n",
    "x=np.arange(0.1,30,0.1)"
   ]
  },
  {
   "cell_type": "code",
   "execution_count": 45,
   "metadata": {},
   "outputs": [
    {
     "name": "stderr",
     "output_type": "stream",
     "text": [
      "C:\\Software\\Programming\\Anaconda\\lib\\site-packages\\numpy\\__init__.py:1: RuntimeWarning: invalid value encountered in power\n",
      "  \"\"\"\n"
     ]
    },
    {
     "data": {
      "text/plain": [
       "[<matplotlib.lines.Line2D at 0x27052c50f98>]"
      ]
     },
     "execution_count": 45,
     "metadata": {},
     "output_type": "execute_result"
    },
    {
     "data": {
      "image/png": "[encoded data removed]",
      "text/plain": [
       "<Figure size 432x288 with 1 Axes>"
      ]
     },
     "metadata": {},
     "output_type": "display_data"
    }
   ],
   "source": [
    "plt.plot(x,a(x))"
   ]
  }
 ],
 "metadata": {
  "kernelspec": {
   "display_name": "Python 3",
   "language": "python",
   "name": "python3"
  },
  "language_info": {
   "codemirror_mode": {
    "name": "ipython",
    "version": 3
   },
   "file_extension": ".py",
   "mimetype": "text/x-python",
   "name": "python",
   "nbconvert_exporter": "python",
   "pygments_lexer": "ipython3",
   "version": "3.6.6"
  },
  "latex_envs": {
   "LaTeX_envs_menu_present": true,
   "autoclose": false,
   "autocomplete": true,
   "bibliofile": "biblio.bib",
   "cite_by": "apalike",
   "current_citInitial": 1,
   "eqLabelWithNumbers": true,
   "eqNumInitial": 1,
   "hotkeys": {
    "equation": "Ctrl-E",
    "itemize": "Ctrl-I"
   },
   "labels_anchors": false,
   "latex_user_defs": false,
   "report_style_numbering": false,
   "user_envs_cfg": false
  },
  "toc": {
   "base_numbering": 1,
   "nav_menu": {},
   "number_sections": true,
   "sideBar": true,
   "skip_h1_title": false,
   "title_cell": "Table of Contents",
   "title_sidebar": "Contents",
   "toc_cell": false,
   "toc_position": {
    "height": "calc(100% - 180px)",
    "left": "10px",
    "top": "150px",
    "width": "223px"
   },
   "toc_section_display": true,
   "toc_window_display": true
  }
 },
 "nbformat": 4,
 "nbformat_minor": 2
}
