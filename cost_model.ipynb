{
 "cells": [
  {
   "cell_type": "code",
   "execution_count": 68,
   "metadata": {
    "collapsed": true
   },
   "outputs": [],
   "source": [
    "import numpy as np\n",
    "import pandas as pd\n",
    "from datetime import datetime, timedelta\n",
    "from sklearn.externals import joblib\n",
    "from tqdm import tqdm_notebook\n",
    "from matplotlib import pyplot as plt\n",
    "%matplotlib inline\n",
    "plt.rcParams['axes.facecolor'] = 'white'\n",
    "plt.rcParams['font.sans-serif']=['SimHei']"
   ]
  },
  {
   "cell_type": "markdown",
   "metadata": {},
   "source": [
    "该成本模型由蒋文博编写，主要考虑每一次故障维修以后能够update数据集，在随机增加故障以后维保时间间隔按预期变小，但无法随着时间的增加而让维保稳定在一天。"
   ]
  },
  {
   "cell_type": "code",
   "execution_count": 114,
   "metadata": {
    "collapsed": true
   },
   "outputs": [],
   "source": [
    "class BestMaintenanceInterval:\n",
    "    def __init__(self, equipment_data):\n",
    "        equipment_data.sort_values(by=['date'], inplace=True)\n",
    "        equipment_data.reset_index(inplace=True)\n",
    "        self.equipment_data = equipment_data\n",
    "        self.cp = 400\n",
    "        self.cf = 1600\n",
    "    \n",
    "    def h_function(self, t, x):\n",
    "        '''\n",
    "        t: int\n",
    "        x: np.array, Action, Business, ContractType, CityLV, TH, MM_Mono, MM_Mini\n",
    "        '''\n",
    "        #print(t)\n",
    "        beta = np.array([-0.091, 0.015, 0.049, 0.109, 0.051, 0.121, -0.136])\n",
    "        h = (t/111.634)**0.652 * np.exp(np.dot(beta, x))\n",
    "        #print(h)\n",
    "        return h\n",
    "    \n",
    "    def failure_num(self, delta_t, T, t, x, predictive_num):\n",
    "        '''\n",
    "        计算故障次数，包括失效风险\n",
    "        delta_t: 保养间隔\n",
    "        T: 预测得下次故障间隔\n",
    "        t: 距离上一次故障的时间间隔\n",
    "        '''\n",
    "        if T > t:\n",
    "            #预测的故障日期在当前日期之后\n",
    "            remaining_life = T - t\n",
    "            #print(remaining_life)\n",
    "            if delta_t <= remaining_life:\n",
    "                #在本月不会发生下一次故障\n",
    "                #print('a')\n",
    "                failure_risk = self.h_function(delta_t+t, x) - self.h_function(t, x) + (predictive_num - 1)*self.h_function(delta_t, x) + self.h_function(30-predictive_num*delta_t, x)\n",
    "            elif delta_t <= T:\n",
    "                #print('b')\n",
    "                #在本月发生一次故障后不再发生故障\n",
    "                failure_risk = 1 + self.h_function(T, x) - self.h_function(t, x) + self.h_function(delta_t-T+t, x) + (predictive_num - 1)*self.h_function(delta_t, x) + self.h_function(30-predictive_num*delta_t, x)\n",
    "            else:\n",
    "                #print('c')\n",
    "                #在本月会发生多次故障\n",
    "                failure_risk = self.h_function(T, x) - self.h_function(t, x) + 1\n",
    "                countdown = 30- (T - t)\n",
    "                remaining_predictive_time = delta_t - T + t\n",
    "                remaining_failure_time = T\n",
    "                while countdown > 0:\n",
    "                    if countdown < min(remaining_failure_time, remaining_predictive_time):\n",
    "                        failure_risk += self.h_function(countdown, x)\n",
    "                        countdown = 0\n",
    "                    else:\n",
    "                        if remaining_failure_time < remaining_predictive_time:\n",
    "                            failure_risk += (1 + self.h_function(T, x))\n",
    "                            countdown -= remaining_failure_time\n",
    "                            remaining_predictive_time -= remaining_failure_time\n",
    "                        else:\n",
    "                            failure_risk += self.h_function(remaining_predictive_time, x)\n",
    "                            countdown -= remaining_predictive_time\n",
    "                            remaining_predictive_time = delta_t            \n",
    "        else:\n",
    "            #print('d')\n",
    "            #预测的故障日期在当前日期之前\n",
    "            failure_risk = 1\n",
    "            failure_risk += self.failure_num(delta_t, T, 0, x, predictive_num)\n",
    "        return failure_risk\n",
    "    \n",
    "    def cost_equipment(self, delta_t, T, t, x):\n",
    "        '''\n",
    "        单台设备的成本，包括维护成本与故障成本\n",
    "        delta_t: 保养间隔\n",
    "        T: 预测得下次故障间隔\n",
    "        t: 距离上一次故障的时间间隔\n",
    "        '''\n",
    "        predictive_count = 30 // delta_t\n",
    "        predictive_cost = 30 / delta_t * self.cp\n",
    "        failure_count = self.failure_num(delta_t, T, t, x, predictive_count)\n",
    "        failure_cost = failure_count * self.cf\n",
    "        #print(failure_count)\n",
    "        total_cost = predictive_cost + failure_cost\n",
    "        #print(predictive_cost, failure_cost)\n",
    "        return total_cost\n",
    "    \n",
    "    def select_equipment(self):\n",
    "        '''\n",
    "        获取电梯相关数据\n",
    "        return: dict, key=equip_no, values=equip_info\n",
    "        '''\n",
    "        equipments = {}\n",
    "        for i in self.equipment_data.index:\n",
    "            cur_date = self.equipment_data.loc[i, 'date']\n",
    "            if cur_date >= self.date:\n",
    "                break\n",
    "            else:\n",
    "                equip_no = self.equipment_data.loc[i, 'equip_no']\n",
    "                predict_failure = self.equipment_data.loc[i, 'next_repair'] #T, int\n",
    "                covariable = np.array(self.equipment_data.loc[i, ['Action', 'Business', 'ContractType', 'CityLV', 'TH', 'MM_Mono', 'MM_Mini']]) #x, array\n",
    "                tt = (self.date - cur_date).days #t, int\n",
    "                equip_info = {'T': predict_failure, 'x': covariable, 't': tt}\n",
    "                equipments[equip_no] = equip_info\n",
    "        #print(len(equipments))\n",
    "        return equipments\n",
    "    \n",
    "    def get_equipment(self):\n",
    "        equipments = {}\n",
    "        for i in self.equipment_data.index:\n",
    "            cur_date = self.equipment_data.loc[i, 'date']\n",
    "            if cur_date >= self.date:\n",
    "                break\n",
    "            else:\n",
    "                equip_no = self.equipment_data.loc[i, 'equip_no']\n",
    "                predict_failure = self.equipment_data.loc[i, 'next_repair'] #T, int\n",
    "                covariable = np.array(self.equipment_data.loc[i, ['Action', 'Business', 'ContractType', 'CityLV', 'TH', 'MM_Mono', 'MM_Mini']]) #x, array\n",
    "                tt = (self.date - cur_date).days #t, int\n",
    "                equip_info = {'T': predict_failure, 'x': covariable, 't': tt}\n",
    "                equipments[equip_no] = equip_info\n",
    "        #print(len(equipments))\n",
    "        return predict_failure,covariable,tt\n",
    "    \n",
    "    def total_cost(self, delta_t):\n",
    "        '''\n",
    "        计算所有电梯（已出现）的总成本\n",
    "        '''\n",
    "        equipments = self.select_equipment()\n",
    "        cost = 0\n",
    "        for equip_info in equipments.values():\n",
    "            cur_cost = self.cost_equipment(delta_t, equip_info['T'], equip_info['t'], equip_info['x'])\n",
    "            cost += cur_cost\n",
    "        #print(equip_info['x'])\n",
    "        return cost\n",
    "    \n",
    "    def optimize_delta_t(self, date):\n",
    "        '''\n",
    "        寻找最优delta_t\n",
    "        '''\n",
    "        self.date = date\n",
    "        best_delta_t = 1\n",
    "        min_cost = self.total_cost(1)\n",
    "        #res = [min_cost]\n",
    "        for dt in range(2, 31):\n",
    "            cur_cost = self.total_cost(dt)\n",
    "            #res.append(cur_cost)\n",
    "            #print(cur_cost)\n",
    "            if cur_cost <= min_cost:\n",
    "                min_cost = cur_cost\n",
    "                best_delta_t = dt\n",
    "        #return min_cost\n",
    "        return best_delta_t"
   ]
  },
  {
   "cell_type": "code",
   "execution_count": 11,
   "metadata": {
    "collapsed": true
   },
   "outputs": [],
   "source": [
    "test_sample = pd.read_csv('test_sample6.csv')"
   ]
  },
  {
   "cell_type": "code",
   "execution_count": 12,
   "metadata": {
    "collapsed": true
   },
   "outputs": [],
   "source": [
    "test_sample['date'] = test_sample['date'].apply(lambda d: datetime.strptime(d, '%Y-%m-%d'))"
   ]
  },
  {
   "cell_type": "code",
   "execution_count": 4,
   "metadata": {
    "collapsed": true
   },
   "outputs": [],
   "source": [
    "def error_func(y_true, y_pred):\n",
    "    error = y_pred - y_true\n",
    "    error_penalty = np.array(list(map(lambda x: ((math.e)**(x/7)-1) if x >= 0 else ((math.e)**(-x/10)-1), error)))\n",
    "    #return error_penalty\n",
    "    return np.mean(error_penalty)\n",
    "model = joblib.load('xgb_all.joblib')\n",
    "data_test = np.array(test_sample[['lowbound', 'median', 'mean', 'upbound']])\n",
    "test_sample['predict_failure'] = model.predict(data_test)"
   ]
  },
  {
   "cell_type": "code",
   "execution_count": 83,
   "metadata": {
    "scrolled": true
   },
   "outputs": [
    {
     "data": {
      "application/vnd.jupyter.widget-view+json": {
       "model_id": "0a61b32c6a1240b1a8ac21a30ef4073e",
       "version_major": 2,
       "version_minor": 0
      },
      "text/plain": [
       "A Jupyter Widget"
      ]
     },
     "metadata": {},
     "output_type": "display_data"
    },
    {
     "name": "stdout",
     "output_type": "stream",
     "text": [
      "334\n",
      "334\n",
      "334\n",
      "334\n",
      "334\n",
      "334\n",
      "334\n",
      "334\n",
      "334\n",
      "334\n",
      "334\n",
      "334\n",
      "334\n",
      "334\n",
      "334\n",
      "334\n",
      "334\n",
      "334\n",
      "334\n",
      "334\n",
      "334\n",
      "334\n",
      "334\n",
      "334\n",
      "334\n",
      "334\n",
      "334\n",
      "334\n",
      "334\n",
      "334\n",
      "334\n",
      "714\n",
      "714\n",
      "714\n",
      "714\n",
      "714\n",
      "714\n",
      "714\n",
      "714\n",
      "714\n",
      "714\n",
      "714\n",
      "714\n",
      "714\n",
      "714\n",
      "714\n",
      "714\n",
      "714\n",
      "714\n",
      "714\n",
      "714\n",
      "714\n",
      "714\n",
      "714\n",
      "714\n",
      "714\n",
      "714\n",
      "714\n",
      "714\n",
      "714\n",
      "714\n",
      "714\n",
      "755\n",
      "755\n",
      "755\n",
      "755\n",
      "755\n",
      "755\n",
      "755\n",
      "755\n",
      "755\n",
      "755\n",
      "755\n",
      "755\n",
      "755\n",
      "755\n",
      "755\n",
      "755\n",
      "755\n",
      "755\n",
      "755\n",
      "755\n",
      "755\n",
      "755\n",
      "755\n",
      "755\n",
      "755\n",
      "755\n",
      "755\n",
      "755\n",
      "755\n",
      "755\n",
      "755\n",
      "758\n",
      "758\n",
      "758\n",
      "758\n",
      "758\n",
      "758\n",
      "758\n",
      "758\n",
      "758\n",
      "758\n",
      "758\n",
      "758\n",
      "758\n",
      "758\n",
      "758\n",
      "758\n",
      "758\n",
      "758\n",
      "758\n",
      "758\n",
      "758\n",
      "758\n",
      "758\n",
      "758\n",
      "758\n",
      "758\n",
      "758\n",
      "758\n",
      "758\n",
      "758\n",
      "758\n",
      "758\n",
      "758\n",
      "758\n",
      "758\n",
      "758\n",
      "758\n",
      "758\n",
      "758\n",
      "758\n",
      "758\n",
      "758\n",
      "758\n",
      "758\n",
      "758\n",
      "758\n",
      "758\n",
      "758\n",
      "758\n",
      "758\n",
      "758\n",
      "758\n",
      "758\n",
      "758\n",
      "758\n",
      "758\n",
      "758\n",
      "758\n",
      "758\n",
      "758\n",
      "758\n",
      "758\n",
      "758\n",
      "758\n",
      "758\n",
      "758\n",
      "758\n",
      "758\n",
      "758\n",
      "758\n",
      "758\n",
      "758\n",
      "758\n",
      "758\n",
      "758\n",
      "758\n",
      "758\n",
      "758\n",
      "758\n",
      "758\n",
      "758\n",
      "758\n",
      "758\n",
      "758\n",
      "758\n",
      "758\n",
      "758\n",
      "758\n",
      "758\n",
      "758\n",
      "758\n",
      "758\n",
      "758\n",
      "\n"
     ]
    }
   ],
   "source": [
    "date = datetime(2014,8,1)\n",
    "preds=[]\n",
    "covs=[]\n",
    "for i in tqdm_notebook(range(6)):\n",
    "    equipment_data = test_sample[test_sample['label'] == i]\n",
    "    m= BestMaintenanceInterval(equipment_data.copy(deep=True))\n",
    "    m.optimize_delta_t(date)\n",
    "    tmp=m.get_equipment()\n",
    "    preds.append(tmp[0])\n",
    "    covs.append(tmp[1])"
   ]
  },
  {
   "cell_type": "code",
   "execution_count": 84,
   "metadata": {},
   "outputs": [
    {
     "data": {
      "text/plain": [
       "[22, 10, 6, 6, 4, 2]"
      ]
     },
     "execution_count": 84,
     "metadata": {},
     "output_type": "execute_result"
    }
   ],
   "source": [
    "preds"
   ]
  },
  {
   "cell_type": "code",
   "execution_count": 13,
   "metadata": {},
   "outputs": [
    {
     "ename": "KeyboardInterrupt",
     "evalue": "",
     "output_type": "error",
     "traceback": [
      "\u001b[1;31m---------------------------------------------------------------------------\u001b[0m",
      "\u001b[1;31mKeyboardInterrupt\u001b[0m                         Traceback (most recent call last)",
      "\u001b[1;32m<ipython-input-13-3b84910f88f0>\u001b[0m in \u001b[0;36m<module>\u001b[1;34m()\u001b[0m\n\u001b[0;32m      3\u001b[0m     \u001b[0mequipment_data\u001b[0m \u001b[1;33m=\u001b[0m \u001b[0mtest_sample\u001b[0m\u001b[1;33m[\u001b[0m\u001b[0mtest_sample\u001b[0m\u001b[1;33m[\u001b[0m\u001b[1;34m'label'\u001b[0m\u001b[1;33m]\u001b[0m \u001b[1;33m==\u001b[0m \u001b[0mi\u001b[0m\u001b[1;33m]\u001b[0m\u001b[1;33m\u001b[0m\u001b[0m\n\u001b[0;32m      4\u001b[0m     \u001b[0mlocals\u001b[0m\u001b[1;33m(\u001b[0m\u001b[1;33m)\u001b[0m\u001b[1;33m[\u001b[0m\u001b[1;34m'BestMaintenance'\u001b[0m \u001b[1;33m+\u001b[0m \u001b[0mstr\u001b[0m\u001b[1;33m(\u001b[0m\u001b[0mi\u001b[0m\u001b[1;33m)\u001b[0m\u001b[1;33m]\u001b[0m \u001b[1;33m=\u001b[0m \u001b[0mBestMaintenanceInterval\u001b[0m\u001b[1;33m(\u001b[0m\u001b[0mequipment_data\u001b[0m\u001b[1;33m.\u001b[0m\u001b[0mcopy\u001b[0m\u001b[1;33m(\u001b[0m\u001b[0mdeep\u001b[0m\u001b[1;33m=\u001b[0m\u001b[1;32mTrue\u001b[0m\u001b[1;33m)\u001b[0m\u001b[1;33m)\u001b[0m\u001b[1;33m\u001b[0m\u001b[0m\n\u001b[1;32m----> 5\u001b[1;33m     \u001b[0mlocals\u001b[0m\u001b[1;33m(\u001b[0m\u001b[1;33m)\u001b[0m\u001b[1;33m[\u001b[0m\u001b[1;34m'delta_t'\u001b[0m \u001b[1;33m+\u001b[0m \u001b[0mstr\u001b[0m\u001b[1;33m(\u001b[0m\u001b[0mi\u001b[0m\u001b[1;33m)\u001b[0m\u001b[1;33m]\u001b[0m \u001b[1;33m=\u001b[0m \u001b[1;33m(\u001b[0m\u001b[0mlocals\u001b[0m\u001b[1;33m(\u001b[0m\u001b[1;33m)\u001b[0m\u001b[1;33m[\u001b[0m\u001b[1;34m'BestMaintenance'\u001b[0m \u001b[1;33m+\u001b[0m \u001b[0mstr\u001b[0m\u001b[1;33m(\u001b[0m\u001b[0mi\u001b[0m\u001b[1;33m)\u001b[0m\u001b[1;33m]\u001b[0m\u001b[1;33m)\u001b[0m\u001b[1;33m.\u001b[0m\u001b[0moptimize_delta_t\u001b[0m\u001b[1;33m(\u001b[0m\u001b[0mdate\u001b[0m\u001b[1;33m)\u001b[0m\u001b[1;33m\u001b[0m\u001b[0m\n\u001b[0m\u001b[0;32m      6\u001b[0m \u001b[0mprint\u001b[0m\u001b[1;33m(\u001b[0m\u001b[0mdelta_t0\u001b[0m\u001b[1;33m,\u001b[0m \u001b[0mdelta_t1\u001b[0m\u001b[1;33m,\u001b[0m \u001b[0mdelta_t2\u001b[0m\u001b[1;33m,\u001b[0m \u001b[0mdelta_t3\u001b[0m\u001b[1;33m,\u001b[0m \u001b[0mdelta_t4\u001b[0m\u001b[1;33m,\u001b[0m \u001b[0mdelta_t5\u001b[0m\u001b[1;33m)\u001b[0m\u001b[1;33m\u001b[0m\u001b[0m\n",
      "\u001b[1;32m<ipython-input-9-4801d331c1a4>\u001b[0m in \u001b[0;36moptimize_delta_t\u001b[1;34m(self, date)\u001b[0m\n\u001b[0;32m    120\u001b[0m         \u001b[1;31m#res = [min_cost]\u001b[0m\u001b[1;33m\u001b[0m\u001b[1;33m\u001b[0m\u001b[0m\n\u001b[0;32m    121\u001b[0m         \u001b[1;32mfor\u001b[0m \u001b[0mdt\u001b[0m \u001b[1;32min\u001b[0m \u001b[0mrange\u001b[0m\u001b[1;33m(\u001b[0m\u001b[1;36m2\u001b[0m\u001b[1;33m,\u001b[0m \u001b[1;36m31\u001b[0m\u001b[1;33m)\u001b[0m\u001b[1;33m:\u001b[0m\u001b[1;33m\u001b[0m\u001b[0m\n\u001b[1;32m--> 122\u001b[1;33m             \u001b[0mcur_cost\u001b[0m \u001b[1;33m=\u001b[0m \u001b[0mself\u001b[0m\u001b[1;33m.\u001b[0m\u001b[0mtotal_cost\u001b[0m\u001b[1;33m(\u001b[0m\u001b[0mdt\u001b[0m\u001b[1;33m)\u001b[0m\u001b[1;33m\u001b[0m\u001b[0m\n\u001b[0m\u001b[0;32m    123\u001b[0m             \u001b[1;31m#res.append(cur_cost)\u001b[0m\u001b[1;33m\u001b[0m\u001b[1;33m\u001b[0m\u001b[0m\n\u001b[0;32m    124\u001b[0m             \u001b[1;31m#print(cur_cost)\u001b[0m\u001b[1;33m\u001b[0m\u001b[1;33m\u001b[0m\u001b[0m\n",
      "\u001b[1;32m<ipython-input-9-4801d331c1a4>\u001b[0m in \u001b[0;36mtotal_cost\u001b[1;34m(self, delta_t)\u001b[0m\n\u001b[0;32m    103\u001b[0m         \u001b[0m计算所有电梯\u001b[0m\u001b[0;31m（\u001b[0m\u001b[0m已出现\u001b[0m\u001b[0;31m）\u001b[0m\u001b[0m的总成本\u001b[0m\u001b[1;33m\u001b[0m\u001b[0m\n\u001b[0;32m    104\u001b[0m         '''\n\u001b[1;32m--> 105\u001b[1;33m         \u001b[0mequipments\u001b[0m \u001b[1;33m=\u001b[0m \u001b[0mself\u001b[0m\u001b[1;33m.\u001b[0m\u001b[0mselect_equipment\u001b[0m\u001b[1;33m(\u001b[0m\u001b[1;33m)\u001b[0m\u001b[1;33m\u001b[0m\u001b[0m\n\u001b[0m\u001b[0;32m    106\u001b[0m         \u001b[0mcost\u001b[0m \u001b[1;33m=\u001b[0m \u001b[1;36m0\u001b[0m\u001b[1;33m\u001b[0m\u001b[0m\n\u001b[0;32m    107\u001b[0m         \u001b[1;32mfor\u001b[0m \u001b[0mequip_info\u001b[0m \u001b[1;32min\u001b[0m \u001b[0mequipments\u001b[0m\u001b[1;33m.\u001b[0m\u001b[0mvalues\u001b[0m\u001b[1;33m(\u001b[0m\u001b[1;33m)\u001b[0m\u001b[1;33m:\u001b[0m\u001b[1;33m\u001b[0m\u001b[0m\n",
      "\u001b[1;32m<ipython-input-9-4801d331c1a4>\u001b[0m in \u001b[0;36mselect_equipment\u001b[1;34m(self)\u001b[0m\n\u001b[0;32m     93\u001b[0m                 \u001b[0mequip_no\u001b[0m \u001b[1;33m=\u001b[0m \u001b[0mself\u001b[0m\u001b[1;33m.\u001b[0m\u001b[0mequipment_data\u001b[0m\u001b[1;33m.\u001b[0m\u001b[0mloc\u001b[0m\u001b[1;33m[\u001b[0m\u001b[0mi\u001b[0m\u001b[1;33m,\u001b[0m \u001b[1;34m'equip_no'\u001b[0m\u001b[1;33m]\u001b[0m\u001b[1;33m\u001b[0m\u001b[0m\n\u001b[0;32m     94\u001b[0m                 \u001b[0mpredict_failure\u001b[0m \u001b[1;33m=\u001b[0m \u001b[0mself\u001b[0m\u001b[1;33m.\u001b[0m\u001b[0mequipment_data\u001b[0m\u001b[1;33m.\u001b[0m\u001b[0mloc\u001b[0m\u001b[1;33m[\u001b[0m\u001b[0mi\u001b[0m\u001b[1;33m,\u001b[0m \u001b[1;34m'next_repair'\u001b[0m\u001b[1;33m]\u001b[0m \u001b[1;31m#T, int\u001b[0m\u001b[1;33m\u001b[0m\u001b[0m\n\u001b[1;32m---> 95\u001b[1;33m                 \u001b[0mcovariable\u001b[0m \u001b[1;33m=\u001b[0m \u001b[0mnp\u001b[0m\u001b[1;33m.\u001b[0m\u001b[0marray\u001b[0m\u001b[1;33m(\u001b[0m\u001b[0mself\u001b[0m\u001b[1;33m.\u001b[0m\u001b[0mequipment_data\u001b[0m\u001b[1;33m.\u001b[0m\u001b[0mloc\u001b[0m\u001b[1;33m[\u001b[0m\u001b[0mi\u001b[0m\u001b[1;33m,\u001b[0m \u001b[1;33m[\u001b[0m\u001b[1;34m'Action'\u001b[0m\u001b[1;33m,\u001b[0m \u001b[1;34m'Business'\u001b[0m\u001b[1;33m,\u001b[0m \u001b[1;34m'ContractType'\u001b[0m\u001b[1;33m,\u001b[0m \u001b[1;34m'CityLV'\u001b[0m\u001b[1;33m,\u001b[0m \u001b[1;34m'TH'\u001b[0m\u001b[1;33m,\u001b[0m \u001b[1;34m'MM_Mono'\u001b[0m\u001b[1;33m,\u001b[0m \u001b[1;34m'MM_Mini'\u001b[0m\u001b[1;33m]\u001b[0m\u001b[1;33m]\u001b[0m\u001b[1;33m)\u001b[0m \u001b[1;31m#x, array\u001b[0m\u001b[1;33m\u001b[0m\u001b[0m\n\u001b[0m\u001b[0;32m     96\u001b[0m                 \u001b[0mtt\u001b[0m \u001b[1;33m=\u001b[0m \u001b[1;33m(\u001b[0m\u001b[0mself\u001b[0m\u001b[1;33m.\u001b[0m\u001b[0mdate\u001b[0m \u001b[1;33m-\u001b[0m \u001b[0mcur_date\u001b[0m\u001b[1;33m)\u001b[0m\u001b[1;33m.\u001b[0m\u001b[0mdays\u001b[0m \u001b[1;31m#t, int\u001b[0m\u001b[1;33m\u001b[0m\u001b[0m\n\u001b[0;32m     97\u001b[0m                 \u001b[0mequip_info\u001b[0m \u001b[1;33m=\u001b[0m \u001b[1;33m{\u001b[0m\u001b[1;34m'T'\u001b[0m\u001b[1;33m:\u001b[0m \u001b[0mpredict_failure\u001b[0m\u001b[1;33m,\u001b[0m \u001b[1;34m'x'\u001b[0m\u001b[1;33m:\u001b[0m \u001b[0mcovariable\u001b[0m\u001b[1;33m,\u001b[0m \u001b[1;34m't'\u001b[0m\u001b[1;33m:\u001b[0m \u001b[0mtt\u001b[0m\u001b[1;33m}\u001b[0m\u001b[1;33m\u001b[0m\u001b[0m\n",
      "\u001b[1;32mC:\\Software\\Programming\\Anaconda\\lib\\site-packages\\pandas\\core\\indexing.py\u001b[0m in \u001b[0;36m__getitem__\u001b[1;34m(self, key)\u001b[0m\n\u001b[0;32m   1492\u001b[0m             \u001b[1;32mexcept\u001b[0m \u001b[1;33m(\u001b[0m\u001b[0mKeyError\u001b[0m\u001b[1;33m,\u001b[0m \u001b[0mIndexError\u001b[0m\u001b[1;33m,\u001b[0m \u001b[0mAttributeError\u001b[0m\u001b[1;33m)\u001b[0m\u001b[1;33m:\u001b[0m\u001b[1;33m\u001b[0m\u001b[0m\n\u001b[0;32m   1493\u001b[0m                 \u001b[1;32mpass\u001b[0m\u001b[1;33m\u001b[0m\u001b[0m\n\u001b[1;32m-> 1494\u001b[1;33m             \u001b[1;32mreturn\u001b[0m \u001b[0mself\u001b[0m\u001b[1;33m.\u001b[0m\u001b[0m_getitem_tuple\u001b[0m\u001b[1;33m(\u001b[0m\u001b[0mkey\u001b[0m\u001b[1;33m)\u001b[0m\u001b[1;33m\u001b[0m\u001b[0m\n\u001b[0m\u001b[0;32m   1495\u001b[0m         \u001b[1;32melse\u001b[0m\u001b[1;33m:\u001b[0m\u001b[1;33m\u001b[0m\u001b[0m\n\u001b[0;32m   1496\u001b[0m             \u001b[1;31m# we by definition only have the 0th axis\u001b[0m\u001b[1;33m\u001b[0m\u001b[1;33m\u001b[0m\u001b[0m\n",
      "\u001b[1;32mC:\\Software\\Programming\\Anaconda\\lib\\site-packages\\pandas\\core\\indexing.py\u001b[0m in \u001b[0;36m_getitem_tuple\u001b[1;34m(self, tup)\u001b[0m\n\u001b[0;32m    866\u001b[0m     \u001b[1;32mdef\u001b[0m \u001b[0m_getitem_tuple\u001b[0m\u001b[1;33m(\u001b[0m\u001b[0mself\u001b[0m\u001b[1;33m,\u001b[0m \u001b[0mtup\u001b[0m\u001b[1;33m)\u001b[0m\u001b[1;33m:\u001b[0m\u001b[1;33m\u001b[0m\u001b[0m\n\u001b[0;32m    867\u001b[0m         \u001b[1;32mtry\u001b[0m\u001b[1;33m:\u001b[0m\u001b[1;33m\u001b[0m\u001b[0m\n\u001b[1;32m--> 868\u001b[1;33m             \u001b[1;32mreturn\u001b[0m \u001b[0mself\u001b[0m\u001b[1;33m.\u001b[0m\u001b[0m_getitem_lowerdim\u001b[0m\u001b[1;33m(\u001b[0m\u001b[0mtup\u001b[0m\u001b[1;33m)\u001b[0m\u001b[1;33m\u001b[0m\u001b[0m\n\u001b[0m\u001b[0;32m    869\u001b[0m         \u001b[1;32mexcept\u001b[0m \u001b[0mIndexingError\u001b[0m\u001b[1;33m:\u001b[0m\u001b[1;33m\u001b[0m\u001b[0m\n\u001b[0;32m    870\u001b[0m             \u001b[1;32mpass\u001b[0m\u001b[1;33m\u001b[0m\u001b[0m\n",
      "\u001b[1;32mC:\\Software\\Programming\\Anaconda\\lib\\site-packages\\pandas\\core\\indexing.py\u001b[0m in \u001b[0;36m_getitem_lowerdim\u001b[1;34m(self, tup)\u001b[0m\n\u001b[0;32m   1015\u001b[0m                     \u001b[1;32mreturn\u001b[0m \u001b[0msection\u001b[0m\u001b[1;33m\u001b[0m\u001b[0m\n\u001b[0;32m   1016\u001b[0m                 \u001b[1;31m# This is an elided recursive call to iloc/loc/etc'\u001b[0m\u001b[1;33m\u001b[0m\u001b[1;33m\u001b[0m\u001b[0m\n\u001b[1;32m-> 1017\u001b[1;33m                 \u001b[1;32mreturn\u001b[0m \u001b[0mgetattr\u001b[0m\u001b[1;33m(\u001b[0m\u001b[0msection\u001b[0m\u001b[1;33m,\u001b[0m \u001b[0mself\u001b[0m\u001b[1;33m.\u001b[0m\u001b[0mname\u001b[0m\u001b[1;33m)\u001b[0m\u001b[1;33m[\u001b[0m\u001b[0mnew_key\u001b[0m\u001b[1;33m]\u001b[0m\u001b[1;33m\u001b[0m\u001b[0m\n\u001b[0m\u001b[0;32m   1018\u001b[0m \u001b[1;33m\u001b[0m\u001b[0m\n\u001b[0;32m   1019\u001b[0m         \u001b[1;32mraise\u001b[0m \u001b[0mIndexingError\u001b[0m\u001b[1;33m(\u001b[0m\u001b[1;34m'not applicable'\u001b[0m\u001b[1;33m)\u001b[0m\u001b[1;33m\u001b[0m\u001b[0m\n",
      "\u001b[1;32mC:\\Software\\Programming\\Anaconda\\lib\\site-packages\\pandas\\core\\indexing.py\u001b[0m in \u001b[0;36m__getitem__\u001b[1;34m(self, key)\u001b[0m\n\u001b[0;32m   1498\u001b[0m \u001b[1;33m\u001b[0m\u001b[0m\n\u001b[0;32m   1499\u001b[0m             \u001b[0mmaybe_callable\u001b[0m \u001b[1;33m=\u001b[0m \u001b[0mcom\u001b[0m\u001b[1;33m.\u001b[0m\u001b[0mapply_if_callable\u001b[0m\u001b[1;33m(\u001b[0m\u001b[0mkey\u001b[0m\u001b[1;33m,\u001b[0m \u001b[0mself\u001b[0m\u001b[1;33m.\u001b[0m\u001b[0mobj\u001b[0m\u001b[1;33m)\u001b[0m\u001b[1;33m\u001b[0m\u001b[0m\n\u001b[1;32m-> 1500\u001b[1;33m             \u001b[1;32mreturn\u001b[0m \u001b[0mself\u001b[0m\u001b[1;33m.\u001b[0m\u001b[0m_getitem_axis\u001b[0m\u001b[1;33m(\u001b[0m\u001b[0mmaybe_callable\u001b[0m\u001b[1;33m,\u001b[0m \u001b[0maxis\u001b[0m\u001b[1;33m=\u001b[0m\u001b[0maxis\u001b[0m\u001b[1;33m)\u001b[0m\u001b[1;33m\u001b[0m\u001b[0m\n\u001b[0m\u001b[0;32m   1501\u001b[0m \u001b[1;33m\u001b[0m\u001b[0m\n\u001b[0;32m   1502\u001b[0m     \u001b[1;32mdef\u001b[0m \u001b[0m_is_scalar_access\u001b[0m\u001b[1;33m(\u001b[0m\u001b[0mself\u001b[0m\u001b[1;33m,\u001b[0m \u001b[0mkey\u001b[0m\u001b[1;33m)\u001b[0m\u001b[1;33m:\u001b[0m\u001b[1;33m\u001b[0m\u001b[0m\n",
      "\u001b[1;32mC:\\Software\\Programming\\Anaconda\\lib\\site-packages\\pandas\\core\\indexing.py\u001b[0m in \u001b[0;36m_getitem_axis\u001b[1;34m(self, key, axis)\u001b[0m\n\u001b[0;32m   1900\u001b[0m                     \u001b[1;32mraise\u001b[0m \u001b[0mValueError\u001b[0m\u001b[1;33m(\u001b[0m\u001b[1;34m'Cannot index with multidimensional key'\u001b[0m\u001b[1;33m)\u001b[0m\u001b[1;33m\u001b[0m\u001b[0m\n\u001b[0;32m   1901\u001b[0m \u001b[1;33m\u001b[0m\u001b[0m\n\u001b[1;32m-> 1902\u001b[1;33m                 \u001b[1;32mreturn\u001b[0m \u001b[0mself\u001b[0m\u001b[1;33m.\u001b[0m\u001b[0m_getitem_iterable\u001b[0m\u001b[1;33m(\u001b[0m\u001b[0mkey\u001b[0m\u001b[1;33m,\u001b[0m \u001b[0maxis\u001b[0m\u001b[1;33m=\u001b[0m\u001b[0maxis\u001b[0m\u001b[1;33m)\u001b[0m\u001b[1;33m\u001b[0m\u001b[0m\n\u001b[0m\u001b[0;32m   1903\u001b[0m \u001b[1;33m\u001b[0m\u001b[0m\n\u001b[0;32m   1904\u001b[0m             \u001b[1;31m# nested tuple slicing\u001b[0m\u001b[1;33m\u001b[0m\u001b[1;33m\u001b[0m\u001b[0m\n",
      "\u001b[1;32mC:\\Software\\Programming\\Anaconda\\lib\\site-packages\\pandas\\core\\indexing.py\u001b[0m in \u001b[0;36m_getitem_iterable\u001b[1;34m(self, key, axis)\u001b[0m\n\u001b[0;32m   1203\u001b[0m             \u001b[1;31m# A collection of keys\u001b[0m\u001b[1;33m\u001b[0m\u001b[1;33m\u001b[0m\u001b[0m\n\u001b[0;32m   1204\u001b[0m             keyarr, indexer = self._get_listlike_indexer(key, axis,\n\u001b[1;32m-> 1205\u001b[1;33m                                                          raise_missing=False)\n\u001b[0m\u001b[0;32m   1206\u001b[0m             return self.obj._reindex_with_indexers({axis: [keyarr, indexer]},\n\u001b[0;32m   1207\u001b[0m                                                    copy=True, allow_dups=True)\n",
      "\u001b[1;32mC:\\Software\\Programming\\Anaconda\\lib\\site-packages\\pandas\\core\\indexing.py\u001b[0m in \u001b[0;36m_get_listlike_indexer\u001b[1;34m(self, key, axis, raise_missing)\u001b[0m\n\u001b[0;32m   1152\u001b[0m             \u001b[1;32mif\u001b[0m \u001b[0mlen\u001b[0m\u001b[1;33m(\u001b[0m\u001b[0max\u001b[0m\u001b[1;33m)\u001b[0m \u001b[1;32mor\u001b[0m \u001b[1;32mnot\u001b[0m \u001b[0mlen\u001b[0m\u001b[1;33m(\u001b[0m\u001b[0mkey\u001b[0m\u001b[1;33m)\u001b[0m\u001b[1;33m:\u001b[0m\u001b[1;33m\u001b[0m\u001b[0m\n\u001b[0;32m   1153\u001b[0m                 \u001b[0mkey\u001b[0m \u001b[1;33m=\u001b[0m \u001b[0mself\u001b[0m\u001b[1;33m.\u001b[0m\u001b[0m_convert_for_reindex\u001b[0m\u001b[1;33m(\u001b[0m\u001b[0mkey\u001b[0m\u001b[1;33m,\u001b[0m \u001b[0maxis\u001b[0m\u001b[1;33m)\u001b[0m\u001b[1;33m\u001b[0m\u001b[0m\n\u001b[1;32m-> 1154\u001b[1;33m             \u001b[0mindexer\u001b[0m \u001b[1;33m=\u001b[0m \u001b[0max\u001b[0m\u001b[1;33m.\u001b[0m\u001b[0mget_indexer_for\u001b[0m\u001b[1;33m(\u001b[0m\u001b[0mkey\u001b[0m\u001b[1;33m)\u001b[0m\u001b[1;33m\u001b[0m\u001b[0m\n\u001b[0m\u001b[0;32m   1155\u001b[0m             \u001b[0mkeyarr\u001b[0m \u001b[1;33m=\u001b[0m \u001b[0max\u001b[0m\u001b[1;33m.\u001b[0m\u001b[0mreindex\u001b[0m\u001b[1;33m(\u001b[0m\u001b[0mkeyarr\u001b[0m\u001b[1;33m)\u001b[0m\u001b[1;33m[\u001b[0m\u001b[1;36m0\u001b[0m\u001b[1;33m]\u001b[0m\u001b[1;33m\u001b[0m\u001b[0m\n\u001b[0;32m   1156\u001b[0m         \u001b[1;32melse\u001b[0m\u001b[1;33m:\u001b[0m\u001b[1;33m\u001b[0m\u001b[0m\n",
      "\u001b[1;32mC:\\Software\\Programming\\Anaconda\\lib\\site-packages\\pandas\\core\\indexes\\base.py\u001b[0m in \u001b[0;36mget_indexer_for\u001b[1;34m(self, target, **kwargs)\u001b[0m\n\u001b[0;32m   4453\u001b[0m         \"\"\"\n\u001b[0;32m   4454\u001b[0m         \u001b[1;32mif\u001b[0m \u001b[0mself\u001b[0m\u001b[1;33m.\u001b[0m\u001b[0mis_unique\u001b[0m\u001b[1;33m:\u001b[0m\u001b[1;33m\u001b[0m\u001b[0m\n\u001b[1;32m-> 4455\u001b[1;33m             \u001b[1;32mreturn\u001b[0m \u001b[0mself\u001b[0m\u001b[1;33m.\u001b[0m\u001b[0mget_indexer\u001b[0m\u001b[1;33m(\u001b[0m\u001b[0mtarget\u001b[0m\u001b[1;33m,\u001b[0m \u001b[1;33m**\u001b[0m\u001b[0mkwargs\u001b[0m\u001b[1;33m)\u001b[0m\u001b[1;33m\u001b[0m\u001b[0m\n\u001b[0m\u001b[0;32m   4456\u001b[0m         \u001b[0mindexer\u001b[0m\u001b[1;33m,\u001b[0m \u001b[0m_\u001b[0m \u001b[1;33m=\u001b[0m \u001b[0mself\u001b[0m\u001b[1;33m.\u001b[0m\u001b[0mget_indexer_non_unique\u001b[0m\u001b[1;33m(\u001b[0m\u001b[0mtarget\u001b[0m\u001b[1;33m,\u001b[0m \u001b[1;33m**\u001b[0m\u001b[0mkwargs\u001b[0m\u001b[1;33m)\u001b[0m\u001b[1;33m\u001b[0m\u001b[0m\n\u001b[0;32m   4457\u001b[0m         \u001b[1;32mreturn\u001b[0m \u001b[0mindexer\u001b[0m\u001b[1;33m\u001b[0m\u001b[0m\n",
      "\u001b[1;32mC:\\Software\\Programming\\Anaconda\\lib\\site-packages\\pandas\\core\\indexes\\base.py\u001b[0m in \u001b[0;36mget_indexer\u001b[1;34m(self, target, method, limit, tolerance)\u001b[0m\n\u001b[0;32m   2716\u001b[0m     \u001b[1;32mdef\u001b[0m \u001b[0mget_indexer\u001b[0m\u001b[1;33m(\u001b[0m\u001b[0mself\u001b[0m\u001b[1;33m,\u001b[0m \u001b[0mtarget\u001b[0m\u001b[1;33m,\u001b[0m \u001b[0mmethod\u001b[0m\u001b[1;33m=\u001b[0m\u001b[1;32mNone\u001b[0m\u001b[1;33m,\u001b[0m \u001b[0mlimit\u001b[0m\u001b[1;33m=\u001b[0m\u001b[1;32mNone\u001b[0m\u001b[1;33m,\u001b[0m \u001b[0mtolerance\u001b[0m\u001b[1;33m=\u001b[0m\u001b[1;32mNone\u001b[0m\u001b[1;33m)\u001b[0m\u001b[1;33m:\u001b[0m\u001b[1;33m\u001b[0m\u001b[0m\n\u001b[0;32m   2717\u001b[0m         \u001b[0mmethod\u001b[0m \u001b[1;33m=\u001b[0m \u001b[0mmissing\u001b[0m\u001b[1;33m.\u001b[0m\u001b[0mclean_reindex_fill_method\u001b[0m\u001b[1;33m(\u001b[0m\u001b[0mmethod\u001b[0m\u001b[1;33m)\u001b[0m\u001b[1;33m\u001b[0m\u001b[0m\n\u001b[1;32m-> 2718\u001b[1;33m         \u001b[0mtarget\u001b[0m \u001b[1;33m=\u001b[0m \u001b[0mensure_index\u001b[0m\u001b[1;33m(\u001b[0m\u001b[0mtarget\u001b[0m\u001b[1;33m)\u001b[0m\u001b[1;33m\u001b[0m\u001b[0m\n\u001b[0m\u001b[0;32m   2719\u001b[0m         \u001b[1;32mif\u001b[0m \u001b[0mtolerance\u001b[0m \u001b[1;32mis\u001b[0m \u001b[1;32mnot\u001b[0m \u001b[1;32mNone\u001b[0m\u001b[1;33m:\u001b[0m\u001b[1;33m\u001b[0m\u001b[0m\n\u001b[0;32m   2720\u001b[0m             \u001b[0mtolerance\u001b[0m \u001b[1;33m=\u001b[0m \u001b[0mself\u001b[0m\u001b[1;33m.\u001b[0m\u001b[0m_convert_tolerance\u001b[0m\u001b[1;33m(\u001b[0m\u001b[0mtolerance\u001b[0m\u001b[1;33m,\u001b[0m \u001b[0mtarget\u001b[0m\u001b[1;33m)\u001b[0m\u001b[1;33m\u001b[0m\u001b[0m\n",
      "\u001b[1;32mC:\\Software\\Programming\\Anaconda\\lib\\site-packages\\pandas\\core\\indexes\\base.py\u001b[0m in \u001b[0;36mensure_index\u001b[1;34m(index_like, copy)\u001b[0m\n\u001b[0;32m   5362\u001b[0m             \u001b[0mindex_like\u001b[0m \u001b[1;33m=\u001b[0m \u001b[0mlist\u001b[0m\u001b[1;33m(\u001b[0m\u001b[0mindex_like\u001b[0m\u001b[1;33m)\u001b[0m\u001b[1;33m\u001b[0m\u001b[0m\n\u001b[0;32m   5363\u001b[0m \u001b[1;33m\u001b[0m\u001b[0m\n\u001b[1;32m-> 5364\u001b[1;33m         \u001b[0mconverted\u001b[0m\u001b[1;33m,\u001b[0m \u001b[0mall_arrays\u001b[0m \u001b[1;33m=\u001b[0m \u001b[0mlib\u001b[0m\u001b[1;33m.\u001b[0m\u001b[0mclean_index_list\u001b[0m\u001b[1;33m(\u001b[0m\u001b[0mindex_like\u001b[0m\u001b[1;33m)\u001b[0m\u001b[1;33m\u001b[0m\u001b[0m\n\u001b[0m\u001b[0;32m   5365\u001b[0m \u001b[1;33m\u001b[0m\u001b[0m\n\u001b[0;32m   5366\u001b[0m         \u001b[1;32mif\u001b[0m \u001b[0mlen\u001b[0m\u001b[1;33m(\u001b[0m\u001b[0mconverted\u001b[0m\u001b[1;33m)\u001b[0m \u001b[1;33m>\u001b[0m \u001b[1;36m0\u001b[0m \u001b[1;32mand\u001b[0m \u001b[0mall_arrays\u001b[0m\u001b[1;33m:\u001b[0m\u001b[1;33m\u001b[0m\u001b[0m\n",
      "\u001b[1;32mpandas\\_libs\\lib.pyx\u001b[0m in \u001b[0;36mpandas._libs.lib.clean_index_list\u001b[1;34m()\u001b[0m\n",
      "\u001b[1;32mpandas\\_libs\\lib.pyx\u001b[0m in \u001b[0;36mpandas._libs.lib.infer_dtype\u001b[1;34m()\u001b[0m\n",
      "\u001b[1;32mC:\\Software\\Programming\\Anaconda\\lib\\importlib\\_bootstrap.py\u001b[0m in \u001b[0;36m_find_and_load\u001b[1;34m(name, import_)\u001b[0m\n",
      "\u001b[1;32mC:\\Software\\Programming\\Anaconda\\lib\\importlib\\_bootstrap.py\u001b[0m in \u001b[0;36m_find_and_load_unlocked\u001b[1;34m(name, import_)\u001b[0m\n",
      "\u001b[1;32mC:\\Software\\Programming\\Anaconda\\lib\\importlib\\_bootstrap.py\u001b[0m in \u001b[0;36m_find_spec\u001b[1;34m(name, path, target)\u001b[0m\n",
      "\u001b[1;32mC:\\Software\\Programming\\Anaconda\\lib\\importlib\\_bootstrap_external.py\u001b[0m in \u001b[0;36mfind_spec\u001b[1;34m(cls, fullname, path, target)\u001b[0m\n",
      "\u001b[1;32mC:\\Software\\Programming\\Anaconda\\lib\\importlib\\_bootstrap_external.py\u001b[0m in \u001b[0;36m_get_spec\u001b[1;34m(cls, fullname, path, target)\u001b[0m\n",
      "\u001b[1;32mC:\\Software\\Programming\\Anaconda\\lib\\importlib\\_bootstrap_external.py\u001b[0m in \u001b[0;36mfind_spec\u001b[1;34m(self, fullname, target)\u001b[0m\n",
      "\u001b[1;32mC:\\Software\\Programming\\Anaconda\\lib\\importlib\\_bootstrap_external.py\u001b[0m in \u001b[0;36m_path_stat\u001b[1;34m(path)\u001b[0m\n",
      "\u001b[1;31mKeyboardInterrupt\u001b[0m: "
     ]
    }
   ],
   "source": [
    "date = datetime(2014,6,1)\n",
    "for i in range(6):\n",
    "    equipment_data = test_sample[test_sample['label'] == i]\n",
    "    locals()['BestMaintenance' + str(i)] = BestMaintenanceInterval(equipment_data.copy(deep=True))\n",
    "    locals()['delta_t' + str(i)] = (locals()['BestMaintenance' + str(i)]).optimize_delta_t(date)\n",
    "print(delta_t0, delta_t1, delta_t2, delta_t3, delta_t4, delta_t5)"
   ]
  },
  {
   "cell_type": "code",
   "execution_count": 168,
   "metadata": {},
   "outputs": [
    {
     "name": "stdout",
     "output_type": "stream",
     "text": [
      "12 8 4 4 4 3\n"
     ]
    }
   ],
   "source": [
    "date = datetime(2014,8,1)\n",
    "for i in range(6):\n",
    "    equipment_data = test_sample[test_sample['label'] == i]\n",
    "    locals()['BestMaintenance' + str(i)] = BestMaintenanceInterval(equipment_data.copy(deep=True))\n",
    "    locals()['delta_t' + str(i)] = (locals()['BestMaintenance' + str(i)]).optimize_delta_t(date)\n",
    "print(delta_t0, delta_t1, delta_t2, delta_t3, delta_t4, delta_t5)"
   ]
  },
  {
   "cell_type": "code",
   "execution_count": 61,
   "metadata": {
    "scrolled": true
   },
   "outputs": [
    {
     "name": "stdout",
     "output_type": "stream",
     "text": [
      "144\n",
      "144\n",
      "144\n",
      "144\n",
      "144\n",
      "144\n",
      "144\n",
      "144\n",
      "144\n",
      "144\n",
      "144\n",
      "144\n",
      "144\n",
      "144\n",
      "144\n",
      "144\n",
      "144\n",
      "144\n",
      "144\n",
      "144\n",
      "144\n",
      "144\n",
      "144\n",
      "144\n",
      "144\n",
      "144\n",
      "144\n",
      "144\n",
      "144\n",
      "144\n",
      "613\n",
      "613\n",
      "613\n",
      "613\n",
      "613\n",
      "613\n",
      "613\n",
      "613\n",
      "613\n",
      "613\n",
      "613\n",
      "613\n",
      "613\n",
      "613\n",
      "613\n",
      "613\n",
      "613\n",
      "613\n",
      "613\n",
      "613\n",
      "613\n",
      "613\n",
      "613\n",
      "613\n",
      "613\n",
      "613\n",
      "613\n",
      "613\n",
      "613\n",
      "613\n",
      "740\n",
      "740\n",
      "740\n",
      "740\n",
      "740\n",
      "740\n",
      "740\n",
      "740\n",
      "740\n",
      "740\n",
      "740\n",
      "740\n",
      "740\n",
      "740\n",
      "740\n",
      "740\n",
      "740\n",
      "740\n",
      "740\n",
      "740\n",
      "740\n",
      "740\n",
      "740\n",
      "740\n",
      "740\n",
      "740\n",
      "740\n",
      "740\n",
      "740\n",
      "740\n",
      "755\n",
      "755\n",
      "755\n",
      "755\n",
      "755\n",
      "755\n",
      "755\n",
      "755\n",
      "755\n",
      "755\n",
      "755\n",
      "755\n",
      "755\n",
      "755\n",
      "755\n",
      "755\n",
      "755\n",
      "755\n",
      "755\n",
      "755\n",
      "755\n",
      "755\n",
      "755\n",
      "755\n",
      "755\n",
      "755\n",
      "755\n",
      "755\n",
      "755\n",
      "755\n",
      "757\n",
      "757\n",
      "757\n",
      "757\n",
      "757\n",
      "757\n",
      "757\n",
      "757\n",
      "757\n",
      "757\n",
      "757\n",
      "757\n",
      "757\n",
      "757\n",
      "757\n",
      "757\n",
      "757\n",
      "757\n",
      "757\n",
      "757\n",
      "757\n",
      "757\n",
      "757\n",
      "757\n",
      "757\n",
      "757\n",
      "757\n",
      "757\n",
      "757\n",
      "757\n",
      "758\n",
      "758\n",
      "758\n",
      "758\n",
      "758\n",
      "758\n",
      "758\n",
      "758\n",
      "758\n",
      "758\n",
      "758\n",
      "758\n",
      "758\n",
      "758\n",
      "758\n",
      "758\n",
      "758\n",
      "758\n",
      "758\n",
      "758\n",
      "758\n",
      "758\n",
      "758\n",
      "758\n",
      "758\n",
      "758\n",
      "758\n",
      "758\n",
      "758\n",
      "758\n",
      "24 24 6 4 3 3\n"
     ]
    }
   ],
   "source": [
    "date = datetime(2014,6,12)\n",
    "for i in range(6):\n",
    "    equipment_data = test_sample[test_sample['label'] == i]\n",
    "    locals()['BestMaintenance' + str(i)] = BestMaintenanceInterval(equipment_data.copy(deep=True))\n",
    "    locals()['delta_t' + str(i)] = (locals()['BestMaintenance' + str(i)]).optimize_delta_t(date)\n",
    "print(delta_t0, delta_t1, delta_t2, delta_t3, delta_t4, delta_t5)"
   ]
  },
  {
   "cell_type": "code",
   "execution_count": 169,
   "metadata": {},
   "outputs": [
    {
     "name": "stdout",
     "output_type": "stream",
     "text": [
      "16 8 4 4 4 6\n"
     ]
    }
   ],
   "source": [
    "date = datetime(2014,10,1)\n",
    "for i in range(6):\n",
    "    equipment_data = test_sample[test_sample['label'] == i]\n",
    "    locals()['BestMaintenance' + str(i)] = BestMaintenanceInterval(equipment_data.copy(deep=True))\n",
    "    locals()['delta_t' + str(i)] = (locals()['BestMaintenance' + str(i)]).optimize_delta_t(date)\n",
    "print(delta_t0, delta_t1, delta_t2, delta_t3, delta_t4, delta_t5)"
   ]
  },
  {
   "cell_type": "code",
   "execution_count": 186,
   "metadata": {},
   "outputs": [
    {
     "name": "stdout",
     "output_type": "stream",
     "text": [
      "12 8 6 4 4 3\n"
     ]
    }
   ],
   "source": [
    "date = datetime(2014,8,1)\n",
    "for i in range(6):\n",
    "    equipment_data = test_sample[test_sample['label'] == i]\n",
    "    locals()['BestMaintenance' + str(i)] = BestMaintenanceInterval(equipment_data.copy(deep=True))\n",
    "    locals()['delta_t' + str(i)] = (locals()['BestMaintenance' + str(i)]).optimize_delta_t(date)\n",
    "print(delta_t0, delta_t1, delta_t2, delta_t3, delta_t4, delta_t5)"
   ]
  },
  {
   "cell_type": "code",
   "execution_count": 188,
   "metadata": {},
   "outputs": [
    {
     "name": "stdout",
     "output_type": "stream",
     "text": [
      "12 8 4 4 3 3\n"
     ]
    }
   ],
   "source": [
    "date = datetime(2014,8,1)\n",
    "for i in range(6):\n",
    "    equipment_data = test_sample[test_sample['label'] == i]\n",
    "    locals()['BestMaintenance' + str(i)] = BestMaintenanceInterval(equipment_data.copy(deep=True))\n",
    "    locals()['delta_t' + str(i)] = (locals()['BestMaintenance' + str(i)]).optimize_delta_t(date)\n",
    "print(delta_t0, delta_t1, delta_t2, delta_t3, delta_t4, delta_t5)"
   ]
  },
  {
   "cell_type": "code",
   "execution_count": 190,
   "metadata": {},
   "outputs": [
    {
     "name": "stdout",
     "output_type": "stream",
     "text": [
      "24 24 6 4 4 3\n"
     ]
    }
   ],
   "source": [
    "date = datetime(2014,8,1)\n",
    "for i in range(6):\n",
    "    equipment_data = test_sample[test_sample['label'] == i]\n",
    "    locals()['BestMaintenance' + str(i)] = BestMaintenanceInterval(equipment_data.copy(deep=True))\n",
    "    locals()['delta_t' + str(i)] = (locals()['BestMaintenance' + str(i)]).optimize_delta_t(date)\n",
    "print(delta_t0, delta_t1, delta_t2, delta_t3, delta_t4, delta_t5)"
   ]
  },
  {
   "cell_type": "code",
   "execution_count": 7,
   "metadata": {},
   "outputs": [
    {
     "ename": "KeyboardInterrupt",
     "evalue": "",
     "output_type": "error",
     "traceback": [
      "\u001b[1;31m---------------------------------------------------------------------------\u001b[0m",
      "\u001b[1;31mAttributeError\u001b[0m                            Traceback (most recent call last)",
      "\u001b[1;32mC:\\ProgramData\\Anaconda3\\lib\\site-packages\\pandas\\core\\generic.py\u001b[0m in \u001b[0;36m__setattr__\u001b[1;34m(self, name, value)\u001b[0m\n\u001b[0;32m   3625\u001b[0m         \u001b[1;32mtry\u001b[0m\u001b[1;33m:\u001b[0m\u001b[1;33m\u001b[0m\u001b[0m\n\u001b[1;32m-> 3626\u001b[1;33m             \u001b[0mobject\u001b[0m\u001b[1;33m.\u001b[0m\u001b[0m__getattribute__\u001b[0m\u001b[1;33m(\u001b[0m\u001b[0mself\u001b[0m\u001b[1;33m,\u001b[0m \u001b[0mname\u001b[0m\u001b[1;33m)\u001b[0m\u001b[1;33m\u001b[0m\u001b[0m\n\u001b[0m\u001b[0;32m   3627\u001b[0m             \u001b[1;32mreturn\u001b[0m \u001b[0mobject\u001b[0m\u001b[1;33m.\u001b[0m\u001b[0m__setattr__\u001b[0m\u001b[1;33m(\u001b[0m\u001b[0mself\u001b[0m\u001b[1;33m,\u001b[0m \u001b[0mname\u001b[0m\u001b[1;33m,\u001b[0m \u001b[0mvalue\u001b[0m\u001b[1;33m)\u001b[0m\u001b[1;33m\u001b[0m\u001b[0m\n",
      "\u001b[1;32mC:\\ProgramData\\Anaconda3\\lib\\site-packages\\pandas\\core\\series.py\u001b[0m in \u001b[0;36mname\u001b[1;34m(self)\u001b[0m\n\u001b[0;32m    337\u001b[0m     \u001b[1;32mdef\u001b[0m \u001b[0mname\u001b[0m\u001b[1;33m(\u001b[0m\u001b[0mself\u001b[0m\u001b[1;33m)\u001b[0m\u001b[1;33m:\u001b[0m\u001b[1;33m\u001b[0m\u001b[0m\n\u001b[1;32m--> 338\u001b[1;33m         \u001b[1;32mreturn\u001b[0m \u001b[0mself\u001b[0m\u001b[1;33m.\u001b[0m\u001b[0m_name\u001b[0m\u001b[1;33m\u001b[0m\u001b[0m\n\u001b[0m\u001b[0;32m    339\u001b[0m \u001b[1;33m\u001b[0m\u001b[0m\n",
      "\u001b[1;32mC:\\ProgramData\\Anaconda3\\lib\\site-packages\\pandas\\core\\generic.py\u001b[0m in \u001b[0;36m__getattr__\u001b[1;34m(self, name)\u001b[0m\n\u001b[0;32m   3609\u001b[0m                 name in self._accessors):\n\u001b[1;32m-> 3610\u001b[1;33m             \u001b[1;32mreturn\u001b[0m \u001b[0mobject\u001b[0m\u001b[1;33m.\u001b[0m\u001b[0m__getattribute__\u001b[0m\u001b[1;33m(\u001b[0m\u001b[0mself\u001b[0m\u001b[1;33m,\u001b[0m \u001b[0mname\u001b[0m\u001b[1;33m)\u001b[0m\u001b[1;33m\u001b[0m\u001b[0m\n\u001b[0m\u001b[0;32m   3611\u001b[0m         \u001b[1;32melse\u001b[0m\u001b[1;33m:\u001b[0m\u001b[1;33m\u001b[0m\u001b[0m\n",
      "\u001b[1;31mAttributeError\u001b[0m: 'Series' object has no attribute '_name'",
      "\nDuring handling of the above exception, another exception occurred:\n",
      "\u001b[1;31mKeyboardInterrupt\u001b[0m                         Traceback (most recent call last)",
      "\u001b[1;32m<ipython-input-7-47189af30360>\u001b[0m in \u001b[0;36m<module>\u001b[1;34m()\u001b[0m\n\u001b[0;32m      3\u001b[0m     \u001b[0mequipment_data\u001b[0m \u001b[1;33m=\u001b[0m \u001b[0mtest_sample\u001b[0m\u001b[1;33m[\u001b[0m\u001b[0mtest_sample\u001b[0m\u001b[1;33m[\u001b[0m\u001b[1;34m'label'\u001b[0m\u001b[1;33m]\u001b[0m \u001b[1;33m==\u001b[0m \u001b[0mi\u001b[0m\u001b[1;33m]\u001b[0m\u001b[1;33m\u001b[0m\u001b[0m\n\u001b[0;32m      4\u001b[0m     \u001b[0mlocals\u001b[0m\u001b[1;33m(\u001b[0m\u001b[1;33m)\u001b[0m\u001b[1;33m[\u001b[0m\u001b[1;34m'BestMaintenance'\u001b[0m \u001b[1;33m+\u001b[0m \u001b[0mstr\u001b[0m\u001b[1;33m(\u001b[0m\u001b[0mi\u001b[0m\u001b[1;33m)\u001b[0m\u001b[1;33m]\u001b[0m \u001b[1;33m=\u001b[0m \u001b[0mBestMaintenanceInterval\u001b[0m\u001b[1;33m(\u001b[0m\u001b[0mequipment_data\u001b[0m\u001b[1;33m.\u001b[0m\u001b[0mcopy\u001b[0m\u001b[1;33m(\u001b[0m\u001b[0mdeep\u001b[0m\u001b[1;33m=\u001b[0m\u001b[1;32mTrue\u001b[0m\u001b[1;33m)\u001b[0m\u001b[1;33m)\u001b[0m\u001b[1;33m\u001b[0m\u001b[0m\n\u001b[1;32m----> 5\u001b[1;33m     \u001b[0mlocals\u001b[0m\u001b[1;33m(\u001b[0m\u001b[1;33m)\u001b[0m\u001b[1;33m[\u001b[0m\u001b[1;34m'delta_t'\u001b[0m \u001b[1;33m+\u001b[0m \u001b[0mstr\u001b[0m\u001b[1;33m(\u001b[0m\u001b[0mi\u001b[0m\u001b[1;33m)\u001b[0m\u001b[1;33m]\u001b[0m \u001b[1;33m=\u001b[0m \u001b[1;33m(\u001b[0m\u001b[0mlocals\u001b[0m\u001b[1;33m(\u001b[0m\u001b[1;33m)\u001b[0m\u001b[1;33m[\u001b[0m\u001b[1;34m'BestMaintenance'\u001b[0m \u001b[1;33m+\u001b[0m \u001b[0mstr\u001b[0m\u001b[1;33m(\u001b[0m\u001b[0mi\u001b[0m\u001b[1;33m)\u001b[0m\u001b[1;33m]\u001b[0m\u001b[1;33m)\u001b[0m\u001b[1;33m.\u001b[0m\u001b[0moptimize_delta_t\u001b[0m\u001b[1;33m(\u001b[0m\u001b[0mdate\u001b[0m\u001b[1;33m)\u001b[0m\u001b[1;33m\u001b[0m\u001b[0m\n\u001b[0m\u001b[0;32m      6\u001b[0m \u001b[0mprint\u001b[0m\u001b[1;33m(\u001b[0m\u001b[0mdelta_t0\u001b[0m\u001b[1;33m,\u001b[0m \u001b[0mdelta_t1\u001b[0m\u001b[1;33m,\u001b[0m \u001b[0mdelta_t2\u001b[0m\u001b[1;33m,\u001b[0m \u001b[0mdelta_t3\u001b[0m\u001b[1;33m,\u001b[0m \u001b[0mdelta_t4\u001b[0m\u001b[1;33m,\u001b[0m \u001b[0mdelta_t5\u001b[0m\u001b[1;33m)\u001b[0m\u001b[1;33m\u001b[0m\u001b[0m\n",
      "\u001b[1;32m<ipython-input-2-85f8c19ea6f1>\u001b[0m in \u001b[0;36moptimize_delta_t\u001b[1;34m(self, date)\u001b[0m\n\u001b[0;32m    120\u001b[0m         \u001b[1;31m#res = [min_cost]\u001b[0m\u001b[1;33m\u001b[0m\u001b[1;33m\u001b[0m\u001b[0m\n\u001b[0;32m    121\u001b[0m         \u001b[1;32mfor\u001b[0m \u001b[0mdt\u001b[0m \u001b[1;32min\u001b[0m \u001b[0mrange\u001b[0m\u001b[1;33m(\u001b[0m\u001b[1;36m2\u001b[0m\u001b[1;33m,\u001b[0m \u001b[1;36m31\u001b[0m\u001b[1;33m)\u001b[0m\u001b[1;33m:\u001b[0m\u001b[1;33m\u001b[0m\u001b[0m\n\u001b[1;32m--> 122\u001b[1;33m             \u001b[0mcur_cost\u001b[0m \u001b[1;33m=\u001b[0m \u001b[0mself\u001b[0m\u001b[1;33m.\u001b[0m\u001b[0mtotal_cost\u001b[0m\u001b[1;33m(\u001b[0m\u001b[0mdt\u001b[0m\u001b[1;33m)\u001b[0m\u001b[1;33m\u001b[0m\u001b[0m\n\u001b[0m\u001b[0;32m    123\u001b[0m             \u001b[1;31m#res.append(cur_cost)\u001b[0m\u001b[1;33m\u001b[0m\u001b[1;33m\u001b[0m\u001b[0m\n\u001b[0;32m    124\u001b[0m             \u001b[1;31m#print(cur_cost)\u001b[0m\u001b[1;33m\u001b[0m\u001b[1;33m\u001b[0m\u001b[0m\n",
      "\u001b[1;32m<ipython-input-2-85f8c19ea6f1>\u001b[0m in \u001b[0;36mtotal_cost\u001b[1;34m(self, delta_t)\u001b[0m\n\u001b[0;32m    103\u001b[0m         \u001b[0m计算所有电梯\u001b[0m\u001b[0;31m（\u001b[0m\u001b[0m已出现\u001b[0m\u001b[0;31m）\u001b[0m\u001b[0m的总成本\u001b[0m\u001b[1;33m\u001b[0m\u001b[0m\n\u001b[0;32m    104\u001b[0m         '''\n\u001b[1;32m--> 105\u001b[1;33m         \u001b[0mequipments\u001b[0m \u001b[1;33m=\u001b[0m \u001b[0mself\u001b[0m\u001b[1;33m.\u001b[0m\u001b[0mselect_equipment\u001b[0m\u001b[1;33m(\u001b[0m\u001b[1;33m)\u001b[0m\u001b[1;33m\u001b[0m\u001b[0m\n\u001b[0m\u001b[0;32m    106\u001b[0m         \u001b[0mcost\u001b[0m \u001b[1;33m=\u001b[0m \u001b[1;36m0\u001b[0m\u001b[1;33m\u001b[0m\u001b[0m\n\u001b[0;32m    107\u001b[0m         \u001b[1;32mfor\u001b[0m \u001b[0mequip_info\u001b[0m \u001b[1;32min\u001b[0m \u001b[0mequipments\u001b[0m\u001b[1;33m.\u001b[0m\u001b[0mvalues\u001b[0m\u001b[1;33m(\u001b[0m\u001b[1;33m)\u001b[0m\u001b[1;33m:\u001b[0m\u001b[1;33m\u001b[0m\u001b[0m\n",
      "\u001b[1;32m<ipython-input-2-85f8c19ea6f1>\u001b[0m in \u001b[0;36mselect_equipment\u001b[1;34m(self)\u001b[0m\n\u001b[0;32m     93\u001b[0m                 \u001b[0mequip_no\u001b[0m \u001b[1;33m=\u001b[0m \u001b[0mself\u001b[0m\u001b[1;33m.\u001b[0m\u001b[0mequipment_data\u001b[0m\u001b[1;33m.\u001b[0m\u001b[0mloc\u001b[0m\u001b[1;33m[\u001b[0m\u001b[0mi\u001b[0m\u001b[1;33m,\u001b[0m \u001b[1;34m'equip_no'\u001b[0m\u001b[1;33m]\u001b[0m\u001b[1;33m\u001b[0m\u001b[0m\n\u001b[0;32m     94\u001b[0m                 \u001b[0mpredict_failure\u001b[0m \u001b[1;33m=\u001b[0m \u001b[0mself\u001b[0m\u001b[1;33m.\u001b[0m\u001b[0mequipment_data\u001b[0m\u001b[1;33m.\u001b[0m\u001b[0mloc\u001b[0m\u001b[1;33m[\u001b[0m\u001b[0mi\u001b[0m\u001b[1;33m,\u001b[0m \u001b[1;34m'predict_failure'\u001b[0m\u001b[1;33m]\u001b[0m \u001b[1;31m#T, int\u001b[0m\u001b[1;33m\u001b[0m\u001b[0m\n\u001b[1;32m---> 95\u001b[1;33m                 \u001b[0mcovariable\u001b[0m \u001b[1;33m=\u001b[0m \u001b[0mnp\u001b[0m\u001b[1;33m.\u001b[0m\u001b[0marray\u001b[0m\u001b[1;33m(\u001b[0m\u001b[0mself\u001b[0m\u001b[1;33m.\u001b[0m\u001b[0mequipment_data\u001b[0m\u001b[1;33m.\u001b[0m\u001b[0mloc\u001b[0m\u001b[1;33m[\u001b[0m\u001b[0mi\u001b[0m\u001b[1;33m,\u001b[0m \u001b[1;33m[\u001b[0m\u001b[1;34m'Action'\u001b[0m\u001b[1;33m,\u001b[0m \u001b[1;34m'Business'\u001b[0m\u001b[1;33m,\u001b[0m \u001b[1;34m'ContractType'\u001b[0m\u001b[1;33m,\u001b[0m \u001b[1;34m'CityLV'\u001b[0m\u001b[1;33m,\u001b[0m \u001b[1;34m'TH'\u001b[0m\u001b[1;33m,\u001b[0m \u001b[1;34m'MM_Mono'\u001b[0m\u001b[1;33m,\u001b[0m \u001b[1;34m'MM_Mini'\u001b[0m\u001b[1;33m]\u001b[0m\u001b[1;33m]\u001b[0m\u001b[1;33m)\u001b[0m \u001b[1;31m#x, array\u001b[0m\u001b[1;33m\u001b[0m\u001b[0m\n\u001b[0m\u001b[0;32m     96\u001b[0m                 \u001b[0mtt\u001b[0m \u001b[1;33m=\u001b[0m \u001b[1;33m(\u001b[0m\u001b[0mself\u001b[0m\u001b[1;33m.\u001b[0m\u001b[0mdate\u001b[0m \u001b[1;33m-\u001b[0m \u001b[0mcur_date\u001b[0m\u001b[1;33m)\u001b[0m\u001b[1;33m.\u001b[0m\u001b[0mdays\u001b[0m \u001b[1;31m#t, int\u001b[0m\u001b[1;33m\u001b[0m\u001b[0m\n\u001b[0;32m     97\u001b[0m                 \u001b[0mequip_info\u001b[0m \u001b[1;33m=\u001b[0m \u001b[1;33m{\u001b[0m\u001b[1;34m'T'\u001b[0m\u001b[1;33m:\u001b[0m \u001b[0mpredict_failure\u001b[0m\u001b[1;33m,\u001b[0m \u001b[1;34m'x'\u001b[0m\u001b[1;33m:\u001b[0m \u001b[0mcovariable\u001b[0m\u001b[1;33m,\u001b[0m \u001b[1;34m't'\u001b[0m\u001b[1;33m:\u001b[0m \u001b[0mtt\u001b[0m\u001b[1;33m}\u001b[0m\u001b[1;33m\u001b[0m\u001b[0m\n",
      "\u001b[1;32mC:\\ProgramData\\Anaconda3\\lib\\site-packages\\pandas\\core\\indexing.py\u001b[0m in \u001b[0;36m__getitem__\u001b[1;34m(self, key)\u001b[0m\n\u001b[0;32m   1365\u001b[0m             \u001b[1;32mexcept\u001b[0m \u001b[1;33m(\u001b[0m\u001b[0mKeyError\u001b[0m\u001b[1;33m,\u001b[0m \u001b[0mIndexError\u001b[0m\u001b[1;33m)\u001b[0m\u001b[1;33m:\u001b[0m\u001b[1;33m\u001b[0m\u001b[0m\n\u001b[0;32m   1366\u001b[0m                 \u001b[1;32mpass\u001b[0m\u001b[1;33m\u001b[0m\u001b[0m\n\u001b[1;32m-> 1367\u001b[1;33m             \u001b[1;32mreturn\u001b[0m \u001b[0mself\u001b[0m\u001b[1;33m.\u001b[0m\u001b[0m_getitem_tuple\u001b[0m\u001b[1;33m(\u001b[0m\u001b[0mkey\u001b[0m\u001b[1;33m)\u001b[0m\u001b[1;33m\u001b[0m\u001b[0m\n\u001b[0m\u001b[0;32m   1368\u001b[0m         \u001b[1;32melse\u001b[0m\u001b[1;33m:\u001b[0m\u001b[1;33m\u001b[0m\u001b[0m\n\u001b[0;32m   1369\u001b[0m             \u001b[1;31m# we by definition only have the 0th axis\u001b[0m\u001b[1;33m\u001b[0m\u001b[1;33m\u001b[0m\u001b[0m\n",
      "\u001b[1;32mC:\\ProgramData\\Anaconda3\\lib\\site-packages\\pandas\\core\\indexing.py\u001b[0m in \u001b[0;36m_getitem_tuple\u001b[1;34m(self, tup)\u001b[0m\n\u001b[0;32m    856\u001b[0m     \u001b[1;32mdef\u001b[0m \u001b[0m_getitem_tuple\u001b[0m\u001b[1;33m(\u001b[0m\u001b[0mself\u001b[0m\u001b[1;33m,\u001b[0m \u001b[0mtup\u001b[0m\u001b[1;33m)\u001b[0m\u001b[1;33m:\u001b[0m\u001b[1;33m\u001b[0m\u001b[0m\n\u001b[0;32m    857\u001b[0m         \u001b[1;32mtry\u001b[0m\u001b[1;33m:\u001b[0m\u001b[1;33m\u001b[0m\u001b[0m\n\u001b[1;32m--> 858\u001b[1;33m             \u001b[1;32mreturn\u001b[0m \u001b[0mself\u001b[0m\u001b[1;33m.\u001b[0m\u001b[0m_getitem_lowerdim\u001b[0m\u001b[1;33m(\u001b[0m\u001b[0mtup\u001b[0m\u001b[1;33m)\u001b[0m\u001b[1;33m\u001b[0m\u001b[0m\n\u001b[0m\u001b[0;32m    859\u001b[0m         \u001b[1;32mexcept\u001b[0m \u001b[0mIndexingError\u001b[0m\u001b[1;33m:\u001b[0m\u001b[1;33m\u001b[0m\u001b[0m\n\u001b[0;32m    860\u001b[0m             \u001b[1;32mpass\u001b[0m\u001b[1;33m\u001b[0m\u001b[0m\n",
      "\u001b[1;32mC:\\ProgramData\\Anaconda3\\lib\\site-packages\\pandas\\core\\indexing.py\u001b[0m in \u001b[0;36m_getitem_lowerdim\u001b[1;34m(self, tup)\u001b[0m\n\u001b[0;32m    989\u001b[0m         \u001b[1;32mfor\u001b[0m \u001b[0mi\u001b[0m\u001b[1;33m,\u001b[0m \u001b[0mkey\u001b[0m \u001b[1;32min\u001b[0m \u001b[0menumerate\u001b[0m\u001b[1;33m(\u001b[0m\u001b[0mtup\u001b[0m\u001b[1;33m)\u001b[0m\u001b[1;33m:\u001b[0m\u001b[1;33m\u001b[0m\u001b[0m\n\u001b[0;32m    990\u001b[0m             \u001b[1;32mif\u001b[0m \u001b[0mis_label_like\u001b[0m\u001b[1;33m(\u001b[0m\u001b[0mkey\u001b[0m\u001b[1;33m)\u001b[0m \u001b[1;32mor\u001b[0m \u001b[0misinstance\u001b[0m\u001b[1;33m(\u001b[0m\u001b[0mkey\u001b[0m\u001b[1;33m,\u001b[0m \u001b[0mtuple\u001b[0m\u001b[1;33m)\u001b[0m\u001b[1;33m:\u001b[0m\u001b[1;33m\u001b[0m\u001b[0m\n\u001b[1;32m--> 991\u001b[1;33m                 \u001b[0msection\u001b[0m \u001b[1;33m=\u001b[0m \u001b[0mself\u001b[0m\u001b[1;33m.\u001b[0m\u001b[0m_getitem_axis\u001b[0m\u001b[1;33m(\u001b[0m\u001b[0mkey\u001b[0m\u001b[1;33m,\u001b[0m \u001b[0maxis\u001b[0m\u001b[1;33m=\u001b[0m\u001b[0mi\u001b[0m\u001b[1;33m)\u001b[0m\u001b[1;33m\u001b[0m\u001b[0m\n\u001b[0m\u001b[0;32m    992\u001b[0m \u001b[1;33m\u001b[0m\u001b[0m\n\u001b[0;32m    993\u001b[0m                 \u001b[1;31m# we have yielded a scalar ?\u001b[0m\u001b[1;33m\u001b[0m\u001b[1;33m\u001b[0m\u001b[0m\n",
      "\u001b[1;32mC:\\ProgramData\\Anaconda3\\lib\\site-packages\\pandas\\core\\indexing.py\u001b[0m in \u001b[0;36m_getitem_axis\u001b[1;34m(self, key, axis)\u001b[0m\n\u001b[0;32m   1625\u001b[0m         \u001b[1;31m# fall thru to straight lookup\u001b[0m\u001b[1;33m\u001b[0m\u001b[1;33m\u001b[0m\u001b[0m\n\u001b[0;32m   1626\u001b[0m         \u001b[0mself\u001b[0m\u001b[1;33m.\u001b[0m\u001b[0m_has_valid_type\u001b[0m\u001b[1;33m(\u001b[0m\u001b[0mkey\u001b[0m\u001b[1;33m,\u001b[0m \u001b[0maxis\u001b[0m\u001b[1;33m)\u001b[0m\u001b[1;33m\u001b[0m\u001b[0m\n\u001b[1;32m-> 1627\u001b[1;33m         \u001b[1;32mreturn\u001b[0m \u001b[0mself\u001b[0m\u001b[1;33m.\u001b[0m\u001b[0m_get_label\u001b[0m\u001b[1;33m(\u001b[0m\u001b[0mkey\u001b[0m\u001b[1;33m,\u001b[0m \u001b[0maxis\u001b[0m\u001b[1;33m=\u001b[0m\u001b[0maxis\u001b[0m\u001b[1;33m)\u001b[0m\u001b[1;33m\u001b[0m\u001b[0m\n\u001b[0m\u001b[0;32m   1628\u001b[0m \u001b[1;33m\u001b[0m\u001b[0m\n\u001b[0;32m   1629\u001b[0m \u001b[1;33m\u001b[0m\u001b[0m\n",
      "\u001b[1;32mC:\\ProgramData\\Anaconda3\\lib\\site-packages\\pandas\\core\\indexing.py\u001b[0m in \u001b[0;36m_get_label\u001b[1;34m(self, label, axis)\u001b[0m\n\u001b[0;32m    143\u001b[0m             \u001b[1;32mraise\u001b[0m \u001b[0mIndexingError\u001b[0m\u001b[1;33m(\u001b[0m\u001b[1;34m'no slices here, handle elsewhere'\u001b[0m\u001b[1;33m)\u001b[0m\u001b[1;33m\u001b[0m\u001b[0m\n\u001b[0;32m    144\u001b[0m \u001b[1;33m\u001b[0m\u001b[0m\n\u001b[1;32m--> 145\u001b[1;33m         \u001b[1;32mreturn\u001b[0m \u001b[0mself\u001b[0m\u001b[1;33m.\u001b[0m\u001b[0mobj\u001b[0m\u001b[1;33m.\u001b[0m\u001b[0m_xs\u001b[0m\u001b[1;33m(\u001b[0m\u001b[0mlabel\u001b[0m\u001b[1;33m,\u001b[0m \u001b[0maxis\u001b[0m\u001b[1;33m=\u001b[0m\u001b[0maxis\u001b[0m\u001b[1;33m)\u001b[0m\u001b[1;33m\u001b[0m\u001b[0m\n\u001b[0m\u001b[0;32m    146\u001b[0m \u001b[1;33m\u001b[0m\u001b[0m\n\u001b[0;32m    147\u001b[0m     \u001b[1;32mdef\u001b[0m \u001b[0m_get_loc\u001b[0m\u001b[1;33m(\u001b[0m\u001b[0mself\u001b[0m\u001b[1;33m,\u001b[0m \u001b[0mkey\u001b[0m\u001b[1;33m,\u001b[0m \u001b[0maxis\u001b[0m\u001b[1;33m=\u001b[0m\u001b[1;32mNone\u001b[0m\u001b[1;33m)\u001b[0m\u001b[1;33m:\u001b[0m\u001b[1;33m\u001b[0m\u001b[0m\n",
      "\u001b[1;32mC:\\ProgramData\\Anaconda3\\lib\\site-packages\\pandas\\core\\generic.py\u001b[0m in \u001b[0;36mxs\u001b[1;34m(self, key, axis, level, drop_level)\u001b[0m\n\u001b[0;32m   2367\u001b[0m             result = self._constructor_sliced(\n\u001b[0;32m   2368\u001b[0m                 \u001b[0mnew_values\u001b[0m\u001b[1;33m,\u001b[0m \u001b[0mindex\u001b[0m\u001b[1;33m=\u001b[0m\u001b[0mself\u001b[0m\u001b[1;33m.\u001b[0m\u001b[0mcolumns\u001b[0m\u001b[1;33m,\u001b[0m\u001b[1;33m\u001b[0m\u001b[0m\n\u001b[1;32m-> 2369\u001b[1;33m                 name=self.index[loc], dtype=new_values.dtype)\n\u001b[0m\u001b[0;32m   2370\u001b[0m \u001b[1;33m\u001b[0m\u001b[0m\n\u001b[0;32m   2371\u001b[0m         \u001b[1;32melse\u001b[0m\u001b[1;33m:\u001b[0m\u001b[1;33m\u001b[0m\u001b[0m\n",
      "\u001b[1;32mC:\\ProgramData\\Anaconda3\\lib\\site-packages\\pandas\\core\\series.py\u001b[0m in \u001b[0;36m__init__\u001b[1;34m(self, data, index, dtype, name, copy, fastpath)\u001b[0m\n\u001b[0;32m    268\u001b[0m         \u001b[0mgeneric\u001b[0m\u001b[1;33m.\u001b[0m\u001b[0mNDFrame\u001b[0m\u001b[1;33m.\u001b[0m\u001b[0m__init__\u001b[0m\u001b[1;33m(\u001b[0m\u001b[0mself\u001b[0m\u001b[1;33m,\u001b[0m \u001b[0mdata\u001b[0m\u001b[1;33m,\u001b[0m \u001b[0mfastpath\u001b[0m\u001b[1;33m=\u001b[0m\u001b[1;32mTrue\u001b[0m\u001b[1;33m)\u001b[0m\u001b[1;33m\u001b[0m\u001b[0m\n\u001b[0;32m    269\u001b[0m \u001b[1;33m\u001b[0m\u001b[0m\n\u001b[1;32m--> 270\u001b[1;33m         \u001b[0mself\u001b[0m\u001b[1;33m.\u001b[0m\u001b[0mname\u001b[0m \u001b[1;33m=\u001b[0m \u001b[0mname\u001b[0m\u001b[1;33m\u001b[0m\u001b[0m\n\u001b[0m\u001b[0;32m    271\u001b[0m         \u001b[0mself\u001b[0m\u001b[1;33m.\u001b[0m\u001b[0m_set_axis\u001b[0m\u001b[1;33m(\u001b[0m\u001b[1;36m0\u001b[0m\u001b[1;33m,\u001b[0m \u001b[0mindex\u001b[0m\u001b[1;33m,\u001b[0m \u001b[0mfastpath\u001b[0m\u001b[1;33m=\u001b[0m\u001b[1;32mTrue\u001b[0m\u001b[1;33m)\u001b[0m\u001b[1;33m\u001b[0m\u001b[0m\n\u001b[0;32m    272\u001b[0m \u001b[1;33m\u001b[0m\u001b[0m\n",
      "\u001b[1;32mC:\\ProgramData\\Anaconda3\\lib\\site-packages\\pandas\\core\\generic.py\u001b[0m in \u001b[0;36m__setattr__\u001b[1;34m(self, name, value)\u001b[0m\n\u001b[0;32m   3626\u001b[0m             \u001b[0mobject\u001b[0m\u001b[1;33m.\u001b[0m\u001b[0m__getattribute__\u001b[0m\u001b[1;33m(\u001b[0m\u001b[0mself\u001b[0m\u001b[1;33m,\u001b[0m \u001b[0mname\u001b[0m\u001b[1;33m)\u001b[0m\u001b[1;33m\u001b[0m\u001b[0m\n\u001b[0;32m   3627\u001b[0m             \u001b[1;32mreturn\u001b[0m \u001b[0mobject\u001b[0m\u001b[1;33m.\u001b[0m\u001b[0m__setattr__\u001b[0m\u001b[1;33m(\u001b[0m\u001b[0mself\u001b[0m\u001b[1;33m,\u001b[0m \u001b[0mname\u001b[0m\u001b[1;33m,\u001b[0m \u001b[0mvalue\u001b[0m\u001b[1;33m)\u001b[0m\u001b[1;33m\u001b[0m\u001b[0m\n\u001b[1;32m-> 3628\u001b[1;33m         \u001b[1;32mexcept\u001b[0m \u001b[0mAttributeError\u001b[0m\u001b[1;33m:\u001b[0m\u001b[1;33m\u001b[0m\u001b[0m\n\u001b[0m\u001b[0;32m   3629\u001b[0m             \u001b[1;32mpass\u001b[0m\u001b[1;33m\u001b[0m\u001b[0m\n\u001b[0;32m   3630\u001b[0m \u001b[1;33m\u001b[0m\u001b[0m\n",
      "\u001b[1;31mKeyboardInterrupt\u001b[0m: "
     ]
    }
   ],
   "source": [
    "date = datetime(2014,8,1)\n",
    "for i in range(6):\n",
    "    equipment_data = test_sample[test_sample['label'] == i]\n",
    "    locals()['BestMaintenance' + str(i)] = BestMaintenanceInterval(equipment_data.copy(deep=True))\n",
    "    locals()['delta_t' + str(i)] = (locals()['BestMaintenance' + str(i)]).optimize_delta_t(date)\n",
    "print(delta_t0, delta_t1, delta_t2, delta_t3, delta_t4, delta_t5)"
   ]
  },
  {
   "cell_type": "code",
   "execution_count": 54,
   "metadata": {},
   "outputs": [
    {
     "name": "stderr",
     "output_type": "stream",
     "text": [
      "C:\\Software\\Programming\\Anaconda\\lib\\site-packages\\ipykernel_launcher.py:3: SettingWithCopyWarning: \n",
      "A value is trying to be set on a copy of a slice from a DataFrame\n",
      "\n",
      "See the caveats in the documentation: http://pandas.pydata.org/pandas-docs/stable/indexing.html#indexing-view-versus-copy\n",
      "  This is separate from the ipykernel package so we can avoid doing imports until\n"
     ]
    }
   ],
   "source": [
    "model=BestMaintenanceInterval( test_sample[test_sample['label'] == 0])"
   ]
  },
  {
   "cell_type": "code",
   "execution_count": 59,
   "metadata": {
    "scrolled": true
   },
   "outputs": [
    {
     "name": "stdout",
     "output_type": "stream",
     "text": [
      "144\n",
      "144\n",
      "144\n",
      "144\n",
      "144\n",
      "144\n",
      "144\n",
      "144\n",
      "144\n",
      "144\n",
      "144\n",
      "144\n",
      "144\n",
      "144\n",
      "144\n",
      "144\n",
      "144\n",
      "144\n",
      "144\n",
      "144\n",
      "144\n",
      "144\n",
      "144\n",
      "144\n",
      "144\n",
      "144\n",
      "144\n",
      "144\n",
      "144\n",
      "144\n",
      "144\n"
     ]
    },
    {
     "data": {
      "text/plain": [
       "42160.0"
      ]
     },
     "execution_count": 59,
     "metadata": {},
     "output_type": "execute_result"
    }
   ],
   "source": [
    "date = datetime.datetime(2014,6,12)\n",
    "delta_t=model.optimize_delta_t(date)\n",
    "model.total_cost(delta_t)"
   ]
  },
  {
   "cell_type": "code",
   "execution_count": 52,
   "metadata": {},
   "outputs": [
    {
     "data": {
      "text/plain": [
       "178"
      ]
     },
     "execution_count": 52,
     "metadata": {},
     "output_type": "execute_result"
    }
   ],
   "source": [
    "import datetime\n",
    "a=test_sample[test_sample['label'] == 0]\n",
    "date = datetime.datetime(2014,6,1)\n",
    "dates_=[x for x in a['date']]\n",
    "dates_=np.array(dates_)\n",
    "dates_filter=datetime.datetime(2014,7,1)\n",
    "index=((dates_>=date) & (dates_<=dates_filter) )\n",
    "index=np.where(index)[0]\n",
    "len(index)"
   ]
  },
  {
   "cell_type": "code",
   "execution_count": 58,
   "metadata": {},
   "outputs": [
    {
     "data": {
      "text/plain": [
       "220.67796610169492"
      ]
     },
     "execution_count": 58,
     "metadata": {},
     "output_type": "execute_result"
    }
   ],
   "source": [
    "# 成本\n"
   ]
  },
  {
   "cell_type": "code",
   "execution_count": 72,
   "metadata": {
    "collapsed": true
   },
   "outputs": [],
   "source": [
    "delta_t=[17,8,6,4,4,3]"
   ]
  },
  {
   "cell_type": "code",
   "execution_count": 66,
   "metadata": {
    "scrolled": true
   },
   "outputs": [
    {
     "data": {
      "application/vnd.jupyter.widget-view+json": {
       "model_id": "3141f9a878e1454097ac62bc4f1bed9f",
       "version_major": 2,
       "version_minor": 0
      },
      "text/plain": [
       "A Jupyter Widget"
      ]
     },
     "metadata": {},
     "output_type": "display_data"
    },
    {
     "name": "stdout",
     "output_type": "stream",
     "text": [
      "334\n",
      "334\n",
      "334\n",
      "334\n",
      "334\n",
      "334\n",
      "334\n",
      "334\n",
      "334\n",
      "334\n",
      "334\n",
      "334\n",
      "334\n",
      "334\n",
      "334\n",
      "334\n",
      "334\n",
      "334\n",
      "334\n",
      "334\n",
      "334\n",
      "334\n",
      "334\n",
      "334\n",
      "334\n",
      "334\n",
      "334\n",
      "334\n",
      "334\n",
      "334\n",
      "714\n",
      "714\n",
      "714\n",
      "714\n",
      "714\n",
      "714\n",
      "714\n",
      "714\n",
      "714\n",
      "714\n",
      "714\n",
      "714\n",
      "714\n",
      "714\n",
      "714\n",
      "714\n",
      "714\n",
      "714\n",
      "714\n",
      "714\n",
      "714\n",
      "714\n",
      "714\n",
      "714\n",
      "714\n",
      "714\n",
      "714\n",
      "714\n",
      "714\n",
      "714\n",
      "755\n",
      "755\n",
      "755\n",
      "755\n",
      "755\n",
      "755\n",
      "755\n",
      "755\n",
      "755\n",
      "755\n",
      "755\n",
      "755\n",
      "755\n",
      "755\n",
      "755\n",
      "755\n",
      "755\n",
      "755\n",
      "755\n",
      "755\n",
      "755\n",
      "755\n",
      "755\n",
      "755\n",
      "755\n",
      "755\n",
      "755\n",
      "755\n",
      "755\n",
      "755\n",
      "758\n",
      "758\n",
      "758\n",
      "758\n",
      "758\n",
      "758\n",
      "758\n",
      "758\n",
      "758\n",
      "758\n",
      "758\n",
      "758\n",
      "758\n",
      "758\n",
      "758\n",
      "758\n",
      "758\n",
      "758\n",
      "758\n",
      "758\n",
      "758\n",
      "758\n",
      "758\n",
      "758\n",
      "758\n",
      "758\n",
      "758\n",
      "758\n",
      "758\n",
      "758\n",
      "758\n",
      "758\n",
      "758\n",
      "758\n",
      "758\n",
      "758\n",
      "758\n",
      "758\n",
      "758\n",
      "758\n",
      "758\n",
      "758\n",
      "758\n",
      "758\n",
      "758\n",
      "758\n",
      "758\n",
      "758\n",
      "758\n",
      "758\n",
      "758\n",
      "758\n",
      "758\n",
      "758\n",
      "758\n",
      "758\n",
      "758\n",
      "758\n",
      "758\n",
      "758\n",
      "758\n",
      "758\n",
      "758\n",
      "758\n",
      "758\n",
      "758\n",
      "758\n",
      "758\n",
      "758\n",
      "758\n",
      "758\n",
      "758\n",
      "758\n",
      "758\n",
      "758\n",
      "758\n",
      "758\n",
      "758\n",
      "758\n",
      "758\n",
      "758\n",
      "758\n",
      "758\n",
      "758\n",
      "758\n",
      "758\n",
      "758\n",
      "758\n",
      "758\n",
      "758\n",
      "\n",
      "[24, 24, 6, 4, 4, 3]\n"
     ]
    }
   ],
   "source": [
    "date = datetime(2014,8,1)\n",
    "dellta_t=[]\n",
    "for i in tqdm_notebook(range(6)):\n",
    "    equipment_data = test_sample[test_sample['label'] == i]\n",
    "    tmp=BestMaintenanceInterval(equipment_data.copy(deep=True))\n",
    "    delta_t.append(tmp.optimize_delta_t(date))\n",
    "print(delta_t)"
   ]
  },
  {
   "cell_type": "code",
   "execution_count": 106,
   "metadata": {},
   "outputs": [
    {
     "data": {
      "application/vnd.jupyter.widget-view+json": {
       "model_id": "2d4948c4e13f4e20b8a43fb6b84c9065",
       "version_major": 2,
       "version_minor": 0
      },
      "text/plain": [
       "A Jupyter Widget"
      ]
     },
     "metadata": {},
     "output_type": "display_data"
    },
    {
     "name": "stdout",
     "output_type": "stream",
     "text": [
      "[24, 24, 24, 24, 24, 24, 24, 24, 24, 24, 24, 24, 24, 24, 24, 24, 24, 24, 24, 24, 24, 24, 24, 24, 24, 24, 24, 24, 24, 24, 24]\n"
     ]
    }
   ],
   "source": [
    "dellta_t_Aug=[]\n",
    "equipment_data = test_sample[test_sample['label'] == 0]\n",
    "for i in tqdm_notebook(range(1,32)):\n",
    "    date = datetime(2014,8,i)    \n",
    "    tmp=BestMaintenanceInterval(equipment_data.copy(deep=True))\n",
    "    dellta_t_Aug.append(tmp.optimize_delta_t(date))\n",
    "print(dellta_t_Aug)"
   ]
  },
  {
   "cell_type": "code",
   "execution_count": 117,
   "metadata": {},
   "outputs": [
    {
     "data": {
      "application/vnd.jupyter.widget-view+json": {
       "model_id": "0037026d8faa46c694f9e6ca50590581",
       "version_major": 2,
       "version_minor": 0
      },
      "text/plain": [
       "A Jupyter Widget"
      ]
     },
     "metadata": {},
     "output_type": "display_data"
    },
    {
     "name": "stdout",
     "output_type": "stream",
     "text": [
      "[8, 8, 8, 8, 8, 8, 8, 8, 8, 8, 8, 8, 8, 8, 8, 8, 8, 8, 8, 8, 8, 8, 8, 8, 8, 8, 8, 12, 12, 12, 12]\n"
     ]
    }
   ],
   "source": [
    "dellta_t_Aug=[]\n",
    "equipment_data = test_sample[test_sample['label'] == 0]\n",
    "for i in tqdm_notebook(range(1,32)):\n",
    "    date = datetime(2014,8,i)    \n",
    "    tmp=BestMaintenanceInterval(equipment_data.copy(deep=True))\n",
    "    dellta_t_Aug.append(tmp.optimize_delta_t(date))\n",
    "print(dellta_t_Aug)"
   ]
  },
  {
   "cell_type": "code",
   "execution_count": 118,
   "metadata": {},
   "outputs": [
    {
     "data": {
      "image/png": "[encoded data removed]",
      "text/plain": [
       "<Figure size 576x432 with 1 Axes>"
      ]
     },
     "metadata": {},
     "output_type": "display_data"
    }
   ],
   "source": [
    "fig,ax=plt.subplots(1,1,figsize=(8,6))\n",
    "x_ticks=[]\n",
    "d=[8,7, 6, 5, 4, 3, 2, 1, 0, 8, 7, 6, 5, 4, 3, 2, 1, 0, 8, 7, 6, 5, 4, 3, 2, 1, 0, 12, 11, 10, 9]\n",
    "ax.plot(d)\n",
    "ax.set_xticks(range(0,32))\n",
    "ax.set_xticklabels(np.arange(1,32,1))\n",
    "plt.xlabel('本日(8月x日)',fontsize=16)\n",
    "plt.ylabel('最优维保时间间隔/天',fontsize=16)\n",
    "plt.title('一月多保下最优维保时间间隔变化(2014.8)',fontsize=20)\n",
    "plt.savefig('一月多保下最优维保时间间隔变化.png')"
   ]
  },
  {
   "cell_type": "code",
   "execution_count": 107,
   "metadata": {},
   "outputs": [
    {
     "data": {
      "application/vnd.jupyter.widget-view+json": {
       "model_id": "c5cb0c5d45bb46d9aa9b81fdf51b1805",
       "version_major": 2,
       "version_minor": 0
      },
      "text/plain": [
       "A Jupyter Widget"
      ]
     },
     "metadata": {},
     "output_type": "display_data"
    },
    {
     "name": "stdout",
     "output_type": "stream",
     "text": [
      "[24, 24, 24, 24, 24, 24, 24, 24, 24, 24, 24, 24, 24, 24, 24, 24, 24, 24, 24, 24, 24, 24, 24, 24, 24, 24, 24, 24, 24, 24]\n"
     ]
    }
   ],
   "source": [
    "dellta_t_sep=[]\n",
    "equipment_data = test_sample[test_sample['label'] == 0]\n",
    "for i in tqdm_notebook(range(1,31)):\n",
    "    date = datetime(2014,9,i)    \n",
    "    tmp=BestMaintenanceInterval(equipment_data.copy(deep=True))\n",
    "    dellta_t_sep.append(tmp.optimize_delta_t(date))\n",
    "print(dellta_t_sep)"
   ]
  },
  {
   "cell_type": "code",
   "execution_count": 109,
   "metadata": {},
   "outputs": [
    {
     "data": {
      "application/vnd.jupyter.widget-view+json": {
       "model_id": "1f768b368aca4a3380901d6746f8c25d",
       "version_major": 2,
       "version_minor": 0
      },
      "text/plain": [
       "A Jupyter Widget"
      ]
     },
     "metadata": {},
     "output_type": "display_data"
    },
    {
     "name": "stdout",
     "output_type": "stream",
     "text": [
      "[12, 12, 12, 12, 12, 24, 24, 12, 12, 12, 24, 24, 24, 24, 24, 24, 12, 12, 24, 24, 24, 24, 24, 24, 24, 12, 24, 12, 24, 12]\n"
     ]
    }
   ],
   "source": [
    "dellta_t_june=[]\n",
    "equipment_data = test_sample[test_sample['label'] == 0]\n",
    "for i in tqdm_notebook(range(1,31)):\n",
    "    date = datetime(2014,6,i)    \n",
    "    tmp=BestMaintenanceInterval(equipment_data.copy(deep=True))\n",
    "    dellta_t_june.append(tmp.optimize_delta_t(date))\n",
    "print(dellta_t_june)"
   ]
  },
  {
   "cell_type": "code",
   "execution_count": 110,
   "metadata": {},
   "outputs": [
    {
     "data": {
      "application/vnd.jupyter.widget-view+json": {
       "model_id": "38afe19bb4234970ae41a807cb7a1ada",
       "version_major": 2,
       "version_minor": 0
      },
      "text/plain": [
       "A Jupyter Widget"
      ]
     },
     "metadata": {},
     "output_type": "display_data"
    },
    {
     "name": "stdout",
     "output_type": "stream",
     "text": [
      "[12, 12, 12, 24, 24, 24, 24, 24, 24, 24, 24, 23, 23, 24, 24, 24, 24, 24, 24, 24, 24, 24, 24, 24, 24, 24, 24, 24, 24, 24, 24]\n"
     ]
    }
   ],
   "source": [
    "dellta_t_july=[]\n",
    "equipment_data = test_sample[test_sample['label'] == 0]\n",
    "for i in tqdm_notebook(range(1,32)):\n",
    "    date = datetime(2014,7,i)    \n",
    "    tmp=BestMaintenanceInterval(equipment_data.copy(deep=True))\n",
    "    dellta_t_july.append(tmp.optimize_delta_t(date))\n",
    "print(dellta_t_july)"
   ]
  },
  {
   "cell_type": "code",
   "execution_count": 111,
   "metadata": {},
   "outputs": [
    {
     "data": {
      "application/vnd.jupyter.widget-view+json": {
       "model_id": "5f20dc70145c48f6ba33eb0ced18d9a0",
       "version_major": 2,
       "version_minor": 0
      },
      "text/plain": [
       "A Jupyter Widget"
      ]
     },
     "metadata": {},
     "output_type": "display_data"
    },
    {
     "name": "stdout",
     "output_type": "stream",
     "text": [
      "[24, 24, 24, 24, 24, 24, 24, 24, 24, 24, 24, 24, 24, 24, 24, 24, 24, 24, 24, 24, 24, 24, 24, 24, 24, 24, 24, 24, 24, 24]\n"
     ]
    }
   ],
   "source": [
    "dellta_t_Dec=[]\n",
    "equipment_data = test_sample[test_sample['label'] == 0]\n",
    "for i in tqdm_notebook(range(1,31)):\n",
    "    date = datetime(2014,12,i)    \n",
    "    tmp=BestMaintenanceInterval(equipment_data.copy(deep=True))\n",
    "    dellta_t_Dec.append(tmp.optimize_delta_t(date))\n",
    "print(dellta_t_Dec)"
   ]
  },
  {
   "cell_type": "code",
   "execution_count": 112,
   "metadata": {},
   "outputs": [
    {
     "data": {
      "application/vnd.jupyter.widget-view+json": {
       "model_id": "c31c0559b2f64ecb844fe8ef70db1342",
       "version_major": 2,
       "version_minor": 0
      },
      "text/plain": [
       "A Jupyter Widget"
      ]
     },
     "metadata": {},
     "output_type": "display_data"
    },
    {
     "name": "stdout",
     "output_type": "stream",
     "text": [
      "[24, 24, 24, 24, 24, 24, 24, 24, 24, 24, 24, 24, 24, 24, 24, 24, 24, 24, 24, 24, 24, 24, 24, 24, 24, 24, 24, 24, 24, 24, 24]\n"
     ]
    }
   ],
   "source": [
    "dellta_t_Oct=[]\n",
    "equipment_data = test_sample[test_sample['label'] == 0]\n",
    "for i in tqdm_notebook(range(1,32)):\n",
    "    date = datetime(2014,10,i)    \n",
    "    tmp=BestMaintenanceInterval(equipment_data.copy(deep=True))\n",
    "    dellta_t_Oct.append(tmp.optimize_delta_t(date))\n",
    "print(dellta_t_Oct)"
   ]
  },
  {
   "cell_type": "code",
   "execution_count": 115,
   "metadata": {},
   "outputs": [
    {
     "data": {
      "application/vnd.jupyter.widget-view+json": {
       "model_id": "3866cf1b3ddc4d849b87d8feb2035dd8",
       "version_major": 2,
       "version_minor": 0
      },
      "text/plain": [
       "A Jupyter Widget"
      ]
     },
     "metadata": {},
     "output_type": "display_data"
    },
    {
     "name": "stdout",
     "output_type": "stream",
     "text": [
      "[12, 12, 12, 12, 12, 12, 12, 12, 12, 12, 12, 12, 12, 12, 12, 12, 12, 12, 12, 12, 12, 12, 12, 12, 12, 12, 12, 12, 12, 12, 12]\n"
     ]
    }
   ],
   "source": [
    "dellta_t_Oct=[]\n",
    "equipment_data = test_sample[test_sample['label'] == 0]\n",
    "for i in tqdm_notebook(range(1,32)):\n",
    "    date = datetime(2014,10,i)    \n",
    "    tmp=BestMaintenanceInterval(equipment_data.copy(deep=True))\n",
    "    dellta_t_Oct.append(tmp.optimize_delta_t(date))\n",
    "print(dellta_t_Oct)"
   ]
  },
  {
   "cell_type": "code",
   "execution_count": 113,
   "metadata": {},
   "outputs": [
    {
     "data": {
      "application/vnd.jupyter.widget-view+json": {
       "model_id": "9a7d84b6d36a4a78a2d7293a42c4a1fd",
       "version_major": 2,
       "version_minor": 0
      },
      "text/plain": [
       "A Jupyter Widget"
      ]
     },
     "metadata": {},
     "output_type": "display_data"
    },
    {
     "name": "stdout",
     "output_type": "stream",
     "text": [
      "[24, 24, 24, 24, 24, 24, 24, 24, 24, 24, 24, 24, 24, 24, 24, 24, 24, 24, 24, 24, 24, 24, 24, 24, 24, 24, 24, 24, 24, 24]\n"
     ]
    }
   ],
   "source": [
    "dellta_t_Nov=[]\n",
    "equipment_data = test_sample[test_sample['label'] == 0]\n",
    "for i in tqdm_notebook(range(1,31)):\n",
    "    date = datetime(2014,11,i)    \n",
    "    tmp=BestMaintenanceInterval(equipment_data.copy(deep=True))\n",
    "    dellta_t_Nov.append(tmp.optimize_delta_t(date))\n",
    "print(dellta_t_Nov)"
   ]
  },
  {
   "cell_type": "code",
   "execution_count": 116,
   "metadata": {},
   "outputs": [
    {
     "data": {
      "application/vnd.jupyter.widget-view+json": {
       "model_id": "ca96a9c8f33d4d02b97ac1eee7f9addc",
       "version_major": 2,
       "version_minor": 0
      },
      "text/plain": [
       "A Jupyter Widget"
      ]
     },
     "metadata": {},
     "output_type": "display_data"
    },
    {
     "name": "stdout",
     "output_type": "stream",
     "text": [
      "[12, 12, 12, 12, 12, 12, 12, 12, 12, 12, 12, 12, 12, 12, 12, 12, 12, 12, 12, 12, 12, 12, 12, 12, 12, 12, 12, 12, 12, 12]\n"
     ]
    }
   ],
   "source": [
    "dellta_t_Nov=[]\n",
    "equipment_data = test_sample[test_sample['label'] == 0]\n",
    "for i in tqdm_notebook(range(1,31)):\n",
    "    date = datetime(2014,11,i)    \n",
    "    tmp=BestMaintenanceInterval(equipment_data.copy(deep=True))\n",
    "    dellta_t_Nov.append(tmp.optimize_delta_t(date))\n",
    "print(dellta_t_Nov)"
   ]
  },
  {
   "cell_type": "code",
   "execution_count": 74,
   "metadata": {},
   "outputs": [
    {
     "data": {
      "image/png": "[encoded data removed]",
      "text/plain": [
       "<Figure size 576x432 with 1 Axes>"
      ]
     },
     "metadata": {},
     "output_type": "display_data"
    }
   ],
   "source": [
    "fig,ax=plt.subplots(1,1,figsize=(8,6))\n",
    "x_ticks=[]\n",
    "for lab in range(0,6):\n",
    "    ax.bar(lab,delta_t[lab])\n",
    "ax.set_xticks(range(0,6))\n",
    "ax.set_xticklabels([1506,4591,7306,9355,10980,12174])\n",
    "plt.xlabel('故障次数',fontsize=16)\n",
    "plt.ylabel('最优维保时间间隔/天',fontsize=16)\n",
    "plt.title('随机增加故障情况下最优维保时间间隔变化(2014.8.1)',fontsize=20)\n",
    "plt.savefig('随机增加故障情况下最优维保时间间隔变化.png')"
   ]
  },
  {
   "cell_type": "code",
   "execution_count": 96,
   "metadata": {
    "collapsed": true
   },
   "outputs": [],
   "source": [
    "def h_function(t, x):\n",
    "    '''\n",
    "    t: int\n",
    "    x: np.array, Action, Business, ContractType, CityLV, TH, MM_Mono, MM_Mini\n",
    "    '''\n",
    "    #print(t)\n",
    "    beta = np.array([-0.091, 0.015, 0.049, 0.109, 0.051, 0.121, -0.136])\n",
    "    h = (t/111.634)**0.652 * np.exp(np.dot(beta, x))\n",
    "    #print(h)\n",
    "    return h"
   ]
  },
  {
   "cell_type": "code",
   "execution_count": 97,
   "metadata": {},
   "outputs": [
    {
     "data": {
      "text/plain": [
       "0.5192721640983957"
      ]
     },
     "execution_count": 97,
     "metadata": {},
     "output_type": "execute_result"
    }
   ],
   "source": [
    "h_function(1,covs[lab])"
   ]
  },
  {
   "cell_type": "code",
   "execution_count": 101,
   "metadata": {},
   "outputs": [
    {
     "data": {
      "image/png": "[encoded data removed]",
      "text/plain": [
       "<Figure size 576x432 with 1 Axes>"
      ]
     },
     "metadata": {},
     "output_type": "display_data"
    }
   ],
   "source": [
    "#tt=[1.5830013280212483,13.610324548028752,16.369696140158773,20.759593800106895,23.55464480874317,24.029735501889274]\n",
    "fig,ax=plt.subplots(1,1,figsize=(8,6))\n",
    "x_ticks=[]\n",
    "x=list(range(30))\n",
    "labs=[1506,4591,7306,9355,10980,12174]\n",
    "for lab in range(len(covs)):\n",
    "    ax.plot(x,[h_function(e,covs[lab]) for e in x],label='{:}次故障'.format(labs[lab]))\n",
    "#ax.set_xticks(range(30))\n",
    "#ax.set_xticklabels(np.arange(0,30,3))\n",
    "plt.legend()\n",
    "plt.xlabel('距离上一次故障天数',fontsize=16)\n",
    "plt.ylabel('累计失效次数估计',fontsize=16)\n",
    "plt.title('随机增加故障情况下累计失效次数变化(2014.8.1)',fontsize=20)\n",
    "plt.savefig('随机增加故障情况下累计失效次数变化.png')"
   ]
  },
  {
   "cell_type": "code",
   "execution_count": 87,
   "metadata": {},
   "outputs": [
    {
     "data": {
      "image/png": "[encoded data removed]",
      "text/plain": [
       "<Figure size 576x432 with 1 Axes>"
      ]
     },
     "metadata": {},
     "output_type": "display_data"
    }
   ],
   "source": [
    "fig,ax=plt.subplots(1,1,figsize=(8,6))\n",
    "x_ticks=[]\n",
    "for lab in range(0,6):\n",
    "    ax.bar(lab,preds[lab])\n",
    "ax.set_xticks(range(0,6))\n",
    "ax.set_xticklabels([1506,4591,7306,9355,10980,12174])\n",
    "plt.xlabel('故障次数',fontsize=16)\n",
    "plt.ylabel('预测故障间隔/天',fontsize=16)\n",
    "plt.title('随机增加故障情况下预测故障间隔变化(2014.8.1)',fontsize=20)\n",
    "plt.savefig('随机增加故障情况下预测故障间隔变化.png')"
   ]
  }
 ],
 "metadata": {
  "kernelspec": {
   "display_name": "Python 3",
   "language": "python",
   "name": "python3"
  },
  "language_info": {
   "codemirror_mode": {
    "name": "ipython",
    "version": 3
   },
   "file_extension": ".py",
   "mimetype": "text/x-python",
   "name": "python",
   "nbconvert_exporter": "python",
   "pygments_lexer": "ipython3",
   "version": "3.6.6"
  },
  "latex_envs": {
   "LaTeX_envs_menu_present": true,
   "autoclose": false,
   "autocomplete": true,
   "bibliofile": "biblio.bib",
   "cite_by": "apalike",
   "current_citInitial": 1,
   "eqLabelWithNumbers": true,
   "eqNumInitial": 1,
   "hotkeys": {
    "equation": "Ctrl-E",
    "itemize": "Ctrl-I"
   },
   "labels_anchors": false,
   "latex_user_defs": false,
   "report_style_numbering": false,
   "user_envs_cfg": false
  },
  "toc": {
   "base_numbering": 1,
   "nav_menu": {},
   "number_sections": true,
   "sideBar": true,
   "skip_h1_title": false,
   "title_cell": "Table of Contents",
   "title_sidebar": "Contents",
   "toc_cell": false,
   "toc_position": {},
   "toc_section_display": true,
   "toc_window_display": false
  }
 },
 "nbformat": 4,
 "nbformat_minor": 2
}
